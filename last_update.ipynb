{
  "cells": [
    {
      "cell_type": "markdown",
      "metadata": {
        "id": "xUHJ2bfQOzRd"
      },
      "source": [
        "# Face and Emotion Recognition Live Camera"
      ]
    },
    {
      "cell_type": "markdown",
      "metadata": {
        "id": "cdlCeMnvOzRf"
      },
      "source": [
        "## Imports"
      ]
    },
    {
      "cell_type": "code",
      "execution_count": null,
      "metadata": {
        "id": "g8VDqnUsOzRg"
      },
      "outputs": [],
      "source": [
        "import os\n",
        "from tensorflow.keras.utils import to_categorical\n",
        "from sklearn.preprocessing import LabelEncoder\n",
        "import cv2\n",
        "from sklearn.model_selection import train_test_split\n",
        "import numpy as np\n",
        "from tensorflow.keras.preprocessing.image import ImageDataGenerator\n"
      ]
    },
    {
      "cell_type": "markdown",
      "metadata": {
        "id": "atY0Tkq9OzRh"
      },
      "source": [
        "## Data Preprocessing"
      ]
    },
    {
      "cell_type": "code",
      "execution_count": null,
      "metadata": {
        "id": "VtQGSJLwOzRh",
        "outputId": "8a73aa5d-30c8-406d-d5b9-e33f0a03e5fe"
      },
      "outputs": [
        {
          "name": "stdout",
          "output_type": "stream",
          "text": [
            "['D:\\\\Deep learning project\\\\our data\\\\Peter', 'D:\\\\Deep learning project\\\\our data\\\\Sandra']\n"
          ]
        }
      ],
      "source": [
        "parent_directory = \"D:\\\\Deep learning project\\\\our data\"\n",
        "os.listdir(parent_directory)\n",
        "\n",
        "# Get a list of all directories within the parent directory\n",
        "directories = [d for d in os.listdir(parent_directory) if os.path.isdir(os.path.join(parent_directory, d))]\n",
        "\n",
        "# Get the full paths of each directory\n",
        "directory_paths = [os.path.join(parent_directory, d) for d in directories]\n",
        "\n",
        "# Print the paths of directories\n",
        "# print(\"Paths of directories within\", parent_directory, \"are:\")\n",
        "print(directory_paths)\n",
        "\n"
      ]
    },
    {
      "cell_type": "code",
      "execution_count": null,
      "metadata": {
        "colab": {
          "base_uri": "https://localhost:8080/",
          "height": 211
        },
        "id": "825lr_t9OzRi",
        "outputId": "0a4db11f-8467-4dc8-be8a-f2256d84f1ca"
      },
      "outputs": [
        {
          "output_type": "error",
          "ename": "NameError",
          "evalue": "name 'directory_paths' is not defined",
          "traceback": [
            "\u001b[0;31m---------------------------------------------------------------------------\u001b[0m",
            "\u001b[0;31mNameError\u001b[0m                                 Traceback (most recent call last)",
            "\u001b[0;32m<ipython-input-3-497c06cc6714>\u001b[0m in \u001b[0;36m<cell line: 9>\u001b[0;34m()\u001b[0m\n\u001b[1;32m      7\u001b[0m \u001b[0mfolder_names\u001b[0m \u001b[0;34m=\u001b[0m \u001b[0;34m[\u001b[0m\u001b[0;34m]\u001b[0m\u001b[0;34m\u001b[0m\u001b[0;34m\u001b[0m\u001b[0m\n\u001b[1;32m      8\u001b[0m \u001b[0;31m# Iterate through images in the directory\u001b[0m\u001b[0;34m\u001b[0m\u001b[0;34m\u001b[0m\u001b[0m\n\u001b[0;32m----> 9\u001b[0;31m \u001b[0;32mfor\u001b[0m \u001b[0mpath\u001b[0m \u001b[0;32min\u001b[0m \u001b[0mdirectory_paths\u001b[0m\u001b[0;34m:\u001b[0m\u001b[0;34m\u001b[0m\u001b[0;34m\u001b[0m\u001b[0m\n\u001b[0m\u001b[1;32m     10\u001b[0m     \u001b[0;32mfor\u001b[0m \u001b[0mfilename\u001b[0m \u001b[0;32min\u001b[0m \u001b[0mos\u001b[0m\u001b[0;34m.\u001b[0m\u001b[0mlistdir\u001b[0m\u001b[0;34m(\u001b[0m\u001b[0mpath\u001b[0m\u001b[0;34m)\u001b[0m\u001b[0;34m:\u001b[0m\u001b[0;34m\u001b[0m\u001b[0;34m\u001b[0m\u001b[0m\n\u001b[1;32m     11\u001b[0m         \u001b[0;32mif\u001b[0m \u001b[0mfilename\u001b[0m\u001b[0;34m.\u001b[0m\u001b[0mendswith\u001b[0m\u001b[0;34m(\u001b[0m\u001b[0;34m'.jpg'\u001b[0m\u001b[0;34m)\u001b[0m \u001b[0;32mor\u001b[0m \u001b[0mfilename\u001b[0m\u001b[0;34m.\u001b[0m\u001b[0mendswith\u001b[0m\u001b[0;34m(\u001b[0m\u001b[0;34m'.png'\u001b[0m\u001b[0;34m)\u001b[0m\u001b[0;34m:\u001b[0m  \u001b[0;31m# Consider only image files\u001b[0m\u001b[0;34m\u001b[0m\u001b[0;34m\u001b[0m\u001b[0m\n",
            "\u001b[0;31mNameError\u001b[0m: name 'directory_paths' is not defined"
          ]
        }
      ],
      "source": [
        "# Specify the directory containing your images\n",
        "# directory_path = 'path/to/directory/with/images'\n",
        "\n",
        "# Create an empty list to store image arrays\n",
        "image_arrays = []\n",
        "image_names = []\n",
        "folder_names = []\n",
        "# Iterate through images in the directory\n",
        "for path in directory_paths:\n",
        "    for filename in os.listdir(path):\n",
        "        if filename.endswith('.jpg') or filename.endswith('.png'):  # Consider only image files\n",
        "            image_path = os.path.join(path, filename)\n",
        "\n",
        "            # Read the image and convert it to a NumPy array\n",
        "            image = cv2.imread(image_path)\n",
        "\n",
        "            if image is not None:\n",
        "                resized_image = cv2.resize(image, (100, 100))\n",
        "                image_arrays.append(resized_image)\n",
        "\n",
        "                # Extract the image name without extension\n",
        "                name_without_extension = os.path.splitext(filename)[0]\n",
        "                name_without_extension = ''.join(filter(str.isalpha, name_without_extension))\n",
        "                image_names.append(name_without_extension)\n",
        "\n",
        "                folder_name = os.path.basename(os.path.dirname(image_path))\n",
        "                folder_names.append(folder_name)\n",
        "            else:\n",
        "                print(f\"Failed to read {filename}\")\n",
        "\n",
        "# Now image_arrays contains NumPy arrays of each image in the directory\n",
        "# Access them like image_arrays[0], image_arrays[1], etc.\n"
      ]
    },
    {
      "cell_type": "code",
      "source": [
        "import os\n",
        "import cv2\n",
        "import numpy as np\n",
        "\n",
        "# Specify the parent directory containing your image directories\n",
        "parent_directory = '/content/drive/MyDrive/marinaface'\n",
        "\n",
        "# Get a list of all directories within the parent directory\"paths of photos\"\n",
        "directories = [d for d in os.listdir(parent_directory) if os.path.isdir(os.path.join(parent_directory, d))]\n",
        "\n",
        "# Create empty lists to store image arrays, image names, and folder names\n",
        "image_arrays = []\n",
        "folder_names = []\n",
        "\n",
        "# Iterate through directories\n",
        "for directory in directories:\n",
        "    # Get the full path of the directory\n",
        "    directory_path = os.path.join(parent_directory, directory)\n",
        "\n",
        "    # Iterate through images in the directory\n",
        "    for filename in os.listdir(directory_path):\n",
        "        if filename.endswith('.jpg') or filename.endswith('.png'):  # Consider only image files\n",
        "            image_path = os.path.join(directory_path, filename)\n",
        "\n",
        "            # Read the image and convert it to a NumPy array\n",
        "            image = cv2.imread(image_path)\n",
        "\n",
        "            if image is not None:\n",
        "                resized_image = cv2.resize(image, (100, 100))\n",
        "                image_arrays.append(resized_image)\n",
        "\n",
        "                # Extract the image name without extension\n",
        "                name_without_extension = os.path.splitext(filename)[0]\n",
        "                name_without_extension = ''.join(filter(str.isalpha, name_without_extension))\n",
        "                image_names.append(name_without_extension)\n",
        "\n",
        "                folder_names.append(directory)\n",
        "            else:\n",
        "                print(f\"Failed to read {filename}\")\n",
        "\n",
        "# Convert lists to NumPy arrays\n",
        "image_arrays = np.array(image_arrays)\n",
        "image_names = np.array(image_names)\n",
        "folder_names = np.array(folder_names)\n",
        "\n",
        "# Now image_arrays contains NumPy arrays of each image in the directories\n",
        "# Access them like image_arrays[0], image_arrays[1], etc.\n"
      ],
      "metadata": {
        "id": "mFXkfXxWPiCh"
      },
      "execution_count": null,
      "outputs": []
    },
    {
      "cell_type": "code",
      "source": [
        "print(\"Parent directory:\", parent_directory)\n",
        "print(\"List of directories:\", directories)\n"
      ],
      "metadata": {
        "colab": {
          "base_uri": "https://localhost:8080/"
        },
        "id": "hKmQLr6zW0Or",
        "outputId": "5ee3b1dd-1435-4c48-ef04-acceee3643fa"
      },
      "execution_count": null,
      "outputs": [
        {
          "output_type": "stream",
          "name": "stdout",
          "text": [
            "Parent directory: /content/drive/MyDrive/marinaface\n",
            "List of directories: ['marina']\n"
          ]
        }
      ]
    },
    {
      "cell_type": "code",
      "source": [
        "\n",
        "print(\"Files in 'marinaface' folder:\")\n",
        "for file in files:\n",
        "    print(file)"
      ],
      "metadata": {
        "colab": {
          "base_uri": "https://localhost:8080/"
        },
        "id": "zJEpPMNDWK9b",
        "outputId": "3123b4ad-0069-428f-9bc2-c95bc74f1d6d"
      },
      "execution_count": null,
      "outputs": [
        {
          "output_type": "stream",
          "name": "stdout",
          "text": [
            "Files in 'marinaface' folder:\n",
            "WhatsApp Image 2024-02-28 at 9.36.08 PM.jpeg\n",
            "WhatsApp Image 2024-02-28 at 9.36.13 PM.jpeg\n",
            "WhatsApp Image 2024-02-28 at 9.36.13 PM (1).jpeg\n",
            "WhatsApp Image 2024-02-28 at 9.36.13 PM (2).jpeg\n",
            "WhatsApp Image 2024-02-28 at 9.36.14 PM.jpeg\n",
            "WhatsApp Image 2024-02-28 at 9.36.14 PM (1).jpeg\n",
            "WhatsApp Image 2024-02-28 at 9.36.14 PM (2).jpeg\n",
            "WhatsApp Image 2024-02-28 at 9.36.14 PM (3).jpeg\n",
            "WhatsApp Image 2024-02-28 at 9.36.16 PM.jpeg\n",
            "WhatsApp Image 2024-02-28 at 9.36.17 PM.jpeg\n",
            "WhatsApp Image 2024-02-28 at 9.36.17 PM (1).jpeg\n",
            "WhatsApp Image 2024-02-28 at 9.36.18 PM.jpeg\n",
            "WhatsApp Image 2024-02-28 at 9.36.18 PM (1).jpeg\n",
            "WhatsApp Image 2024-02-28 at 9.36.19 PM.jpeg\n",
            "WhatsApp Image 2024-02-28 at 9.36.19 PM (1).jpeg\n",
            "WhatsApp Image 2024-02-28 at 9.36.20 PM.jpeg\n",
            "WhatsApp Image 2024-02-28 at 9.36.21 PM.jpeg\n"
          ]
        }
      ]
    },
    {
      "cell_type": "code",
      "source": [
        "print(directories)"
      ],
      "metadata": {
        "colab": {
          "base_uri": "https://localhost:8080/"
        },
        "id": "9jzaSXL3WCP6",
        "outputId": "dd999b70-c53d-46da-dc7f-6bf720b4c223"
      },
      "execution_count": null,
      "outputs": [
        {
          "output_type": "stream",
          "name": "stdout",
          "text": [
            "['marina']\n"
          ]
        }
      ]
    },
    {
      "cell_type": "code",
      "source": [
        "print(image_arrays)"
      ],
      "metadata": {
        "colab": {
          "base_uri": "https://localhost:8080/"
        },
        "id": "7wUgSrbSTQFV",
        "outputId": "648f600d-e589-405f-d82e-df1d4b5277f7"
      },
      "execution_count": null,
      "outputs": [
        {
          "output_type": "stream",
          "name": "stdout",
          "text": [
            "[]\n"
          ]
        }
      ]
    },
    {
      "cell_type": "markdown",
      "metadata": {
        "id": "l0BXXJqCOzRi"
      },
      "source": [
        "## Data Augmentation"
      ]
    },
    {
      "cell_type": "code",
      "execution_count": null,
      "metadata": {
        "id": "ihbVIwnwOzRi"
      },
      "outputs": [],
      "source": [
        "augmented_images = []  # Array to store augmented images\n",
        "augmented_person_labels = []  # Array to store person labels for augmented images\n",
        "augmented_emotion_labels = []  # Array to store emotion labels for augmented images\n",
        "\n",
        "# Custom augmentation functions\n",
        "def flip_horizontally(image):\n",
        "    return cv2.flip(image, 1)  # Flip horizontally\n",
        "\n",
        "def rotate(image, angle=30):\n",
        "    rows, cols, _ = image.shape\n",
        "    rotation_matrix = cv2.getRotationMatrix2D((cols / 2, rows / 2), angle, 1)\n",
        "    return cv2.warpAffine(image, rotation_matrix, (cols, rows))\n",
        "\n",
        "def change_brightness(image, brightness_factor=0.5):\n",
        "    hsv = cv2.cvtColor(image, cv2.COLOR_BGR2HSV)\n",
        "    hsv = np.array(hsv, dtype=np.float64)\n",
        "    hsv[:, :, 2] = hsv[:, :, 2] * brightness_factor\n",
        "    hsv[:, :, 2][hsv[:, :, 2] > 255] = 255\n",
        "    hsv = np.array(hsv, dtype=np.uint8)\n",
        "    return cv2.cvtColor(hsv, cv2.COLOR_HSV2BGR)\n",
        "\n",
        "def add_noise(image):\n",
        "    noise = np.random.normal(0, 20, image.shape)\n",
        "    noisy_image = np.clip(image + noise, 0, 255)\n",
        "    return noisy_image.astype(np.uint8)\n",
        "\n",
        "# List of augmentation functions\n",
        "augmentation_functions = [flip_horizontally, rotate, change_brightness, add_noise]\n",
        "\n"
      ]
    },
    {
      "cell_type": "code",
      "execution_count": null,
      "metadata": {
        "id": "wpAbTTiYOzRj"
      },
      "outputs": [],
      "source": [
        "num = 10\n",
        "\n",
        "for idx, img in enumerate(image_arrays):\n",
        "    emotion_label = image_names[idx]\n",
        "    person_label = folder_names[idx]\n",
        "\n",
        "    # Apply multiple augmentations to each image\n",
        "    for  _ in range(num):\n",
        "        for aug_func in augmentation_functions:\n",
        "            augmented_img = aug_func(img)\n",
        "\n",
        "            # Store augmented image and labels\n",
        "            augmented_images.append(augmented_img)\n",
        "            augmented_person_labels.append(person_label)\n",
        "            augmented_emotion_labels.append(emotion_label)"
      ]
    },
    {
      "cell_type": "code",
      "execution_count": null,
      "metadata": {
        "id": "vLB2D3hYOzRj"
      },
      "outputs": [],
      "source": [
        "# augmented_person_labels[239]"
      ]
    },
    {
      "cell_type": "code",
      "execution_count": null,
      "metadata": {
        "id": "9eXOXVTMOzRk"
      },
      "outputs": [],
      "source": [
        "# augmented_emotion_labels[239]"
      ]
    },
    {
      "cell_type": "code",
      "execution_count": null,
      "metadata": {
        "id": "cOcXw1ejOzRk"
      },
      "outputs": [],
      "source": [
        "# cv2.imshow('img',augmented_images[239])\n",
        "# cv2.waitKey(0)"
      ]
    },
    {
      "cell_type": "code",
      "execution_count": null,
      "metadata": {
        "id": "7khmmySYOzRk"
      },
      "outputs": [],
      "source": [
        "# len(augmented_images)"
      ]
    },
    {
      "cell_type": "code",
      "execution_count": null,
      "metadata": {
        "id": "P0DQ8EVQOzRl"
      },
      "outputs": [],
      "source": [
        "\n",
        "image_arrays = np.array(image_arrays + augmented_images)\n",
        "image_names =  np.array(image_names + augmented_emotion_labels)\n",
        "folder_names =  np.array(folder_names + augmented_person_labels )"
      ]
    },
    {
      "cell_type": "markdown",
      "metadata": {
        "id": "_hAjuCfmOzRl"
      },
      "source": [
        "## Normalization"
      ]
    },
    {
      "cell_type": "code",
      "execution_count": null,
      "metadata": {
        "id": "nv9noJzYOzRl"
      },
      "outputs": [],
      "source": [
        "image_arrays = image_arrays / 255"
      ]
    },
    {
      "cell_type": "markdown",
      "metadata": {
        "id": "8RTDcbQIOzRl"
      },
      "source": [
        "## Our Model"
      ]
    },
    {
      "cell_type": "code",
      "execution_count": null,
      "metadata": {
        "id": "4kgkEXvcOzRl"
      },
      "outputs": [],
      "source": [
        "import tensorflow as tf\n",
        "from tensorflow.keras.layers import Input, Conv2D, MaxPooling2D, Flatten, Dense, concatenate, BatchNormalization, Dropout\n",
        "\n",
        "# Define input shape for the images\n",
        "input_shape = (100, 100, 3)  # Assuming RGB images of size 224x224\n",
        "\n",
        "# Shared input layer\n",
        "input_layer = Input(shape=input_shape)\n",
        "\n",
        "# Shared convolutional layers for feature extraction\n",
        "conv1 = Conv2D(32, (3, 3), activation='relu')(input_layer)\n",
        "drp1 = Dropout(0.25)(conv1)\n",
        "pool1 = MaxPooling2D((2, 2))(drp1)\n",
        "\n",
        "conv2 = Conv2D(64, (3, 3), activation='relu')(pool1)\n",
        "drp2 = Dropout(0.25)(conv2)\n",
        "pool2 = MaxPooling2D((2, 2))(drp2)\n",
        "\n",
        "\n",
        "# Branch 1: Face Recognition\n",
        "flatten = Flatten()(pool2)\n",
        "dense1 = Dense(128, activation='relu')(flatten)\n",
        "drp2 = Dropout(0.25)(dense1)\n",
        "dense2 = Dense(128, activation='relu')(dense1)\n",
        "\n",
        "output_face_recognition = Dense(2, activation='softmax', name='face_recognition')(dense2)  # num_classes_face is the number of face identities\n",
        "\n",
        "# Branch 2: Emotion Recognition\n",
        "conv2 = Conv2D(64, (3, 3), activation='relu')(pool2)\n",
        "norm1 = BatchNormalization()(conv2)\n",
        "drp2 = Dropout(0.25)(norm1)\n",
        "pool2 = MaxPooling2D((2, 2))(drp2)\n",
        "drp2 = Dropout(0.25)(pool2)\n",
        "pool2 = MaxPooling2D((2, 2))(drp2)\n",
        "\n",
        "flatten = Flatten()(pool2)\n",
        "dense3 = Dense(128, activation='relu')(flatten)\n",
        "drp2 = Dropout(0.25)(dense3)\n",
        "dense4 = Dense(128, activation='relu')(drp2)\n",
        "drp2 = Dropout(0.25)(dense4)\n",
        "dense5 = Dense(128, activation='relu')(drp2)\n",
        "output_emotion_recognition = Dense(3, activation='softmax', name='emotion_recognition')(dense5)  # num_classes_emotion is the number of emotion classes\n",
        "\n",
        "# Combine both branches\n",
        "combined_model = tf.keras.Model(inputs=input_layer, outputs=[output_face_recognition, output_emotion_recognition])\n",
        "\n",
        "# Compile the model with appropriate loss functions and metrics for each branch\n",
        "combined_model.compile(optimizer='adam',\n",
        "                       loss={'face_recognition': 'categorical_crossentropy', 'emotion_recognition': 'categorical_crossentropy'},\n",
        "                       metrics={'face_recognition': 'accuracy', 'emotion_recognition': 'accuracy'})\n"
      ]
    },
    {
      "cell_type": "markdown",
      "metadata": {
        "id": "M3FjMUeHOzRm"
      },
      "source": [
        "## Label Encoder"
      ]
    },
    {
      "cell_type": "code",
      "execution_count": null,
      "metadata": {
        "id": "flJR96G9OzRm"
      },
      "outputs": [],
      "source": [
        "label_encoder = LabelEncoder()\n",
        "face_label_encoded = label_encoder.fit_transform(folder_names)\n",
        "y_face_one_hot = to_categorical(face_label_encoded, num_classes=2)\n"
      ]
    },
    {
      "cell_type": "code",
      "execution_count": null,
      "metadata": {
        "id": "zbdLH8v2OzRm",
        "outputId": "df351e11-1c9a-4818-9605-d0f1452e709c",
        "colab": {
          "base_uri": "https://localhost:8080/"
        }
      },
      "outputs": [
        {
          "output_type": "execute_result",
          "data": {
            "text/plain": [
              "array([], shape=(0, 3), dtype=float32)"
            ]
          },
          "metadata": {},
          "execution_count": 14
        }
      ],
      "source": [
        "from sklearn.preprocessing import LabelEncoder\n",
        "\n",
        "# emotions_label contains string labels like 'Happy', 'Sad', 'Neutral'\n",
        "# Convert string labels to numerical labels using LabelEncoder\n",
        "label_encoder = LabelEncoder()\n",
        "emotions_label_encoded = label_encoder.fit_transform(image_names)\n",
        "\n",
        "# Now, emotions_label_encoded contains numerical labels (0, 1, 2, etc.) corresponding to different emotions\n",
        "# Use to_categorical to convert these numerical labels to one-hot encoded format\n",
        "# num_classes_emotion = len(np.unique(emotions_label_encoded))  # Calculate the number of unique classes\n",
        "y_emotion_one_hot = to_categorical(emotions_label_encoded, num_classes=3)\n",
        "y_emotion_one_hot"
      ]
    },
    {
      "cell_type": "code",
      "source": [
        "print(\"Size of image_arrays:\", len(image_arrays))\n"
      ],
      "metadata": {
        "colab": {
          "base_uri": "https://localhost:8080/"
        },
        "id": "3wTsoLNPSz1l",
        "outputId": "d935a4a0-3cc8-4bec-cf89-71e6bc0d22fa"
      },
      "execution_count": null,
      "outputs": [
        {
          "output_type": "stream",
          "name": "stdout",
          "text": [
            "Size of image_arrays: 0\n"
          ]
        }
      ]
    },
    {
      "cell_type": "code",
      "execution_count": null,
      "metadata": {
        "id": "0SJXlih7OzRm",
        "colab": {
          "base_uri": "https://localhost:8080/",
          "height": 304
        },
        "outputId": "7ab191ac-0fbc-444b-f19d-bd1b000d2bec"
      },
      "outputs": [
        {
          "output_type": "error",
          "ename": "ValueError",
          "evalue": "With n_samples=0, test_size=0.1 and train_size=None, the resulting train set will be empty. Adjust any of the aforementioned parameters.",
          "traceback": [
            "\u001b[0;31m---------------------------------------------------------------------------\u001b[0m",
            "\u001b[0;31mValueError\u001b[0m                                Traceback (most recent call last)",
            "\u001b[0;32m<ipython-input-16-4ae987b447bf>\u001b[0m in \u001b[0;36m<cell line: 1>\u001b[0;34m()\u001b[0m\n\u001b[0;32m----> 1\u001b[0;31m \u001b[0mx_face_train\u001b[0m\u001b[0;34m,\u001b[0m \u001b[0mx_face_test\u001b[0m\u001b[0;34m,\u001b[0m \u001b[0my_face_train\u001b[0m\u001b[0;34m,\u001b[0m \u001b[0my_face_test\u001b[0m \u001b[0;34m=\u001b[0m \u001b[0mtrain_test_split\u001b[0m\u001b[0;34m(\u001b[0m\u001b[0mimage_arrays\u001b[0m\u001b[0;34m,\u001b[0m \u001b[0my_face_one_hot\u001b[0m\u001b[0;34m,\u001b[0m \u001b[0mtest_size\u001b[0m\u001b[0;34m=\u001b[0m\u001b[0;36m0.1\u001b[0m\u001b[0;34m,\u001b[0m \u001b[0mrandom_state\u001b[0m\u001b[0;34m=\u001b[0m\u001b[0;36m42\u001b[0m\u001b[0;34m)\u001b[0m\u001b[0;34m\u001b[0m\u001b[0;34m\u001b[0m\u001b[0m\n\u001b[0m\u001b[1;32m      2\u001b[0m \u001b[0;31m#x_emotion_train, x_emotion_test, y_emotion_train, y_emotion_test = train_test_split(image_arrays, y_emotion_one_hot, test_size=0.1, random_state=42)\u001b[0m\u001b[0;34m\u001b[0m\u001b[0;34m\u001b[0m\u001b[0m\n",
            "\u001b[0;32m/usr/local/lib/python3.10/dist-packages/sklearn/model_selection/_split.py\u001b[0m in \u001b[0;36mtrain_test_split\u001b[0;34m(test_size, train_size, random_state, shuffle, stratify, *arrays)\u001b[0m\n\u001b[1;32m   2560\u001b[0m \u001b[0;34m\u001b[0m\u001b[0m\n\u001b[1;32m   2561\u001b[0m     \u001b[0mn_samples\u001b[0m \u001b[0;34m=\u001b[0m \u001b[0m_num_samples\u001b[0m\u001b[0;34m(\u001b[0m\u001b[0marrays\u001b[0m\u001b[0;34m[\u001b[0m\u001b[0;36m0\u001b[0m\u001b[0;34m]\u001b[0m\u001b[0;34m)\u001b[0m\u001b[0;34m\u001b[0m\u001b[0;34m\u001b[0m\u001b[0m\n\u001b[0;32m-> 2562\u001b[0;31m     n_train, n_test = _validate_shuffle_split(\n\u001b[0m\u001b[1;32m   2563\u001b[0m         \u001b[0mn_samples\u001b[0m\u001b[0;34m,\u001b[0m \u001b[0mtest_size\u001b[0m\u001b[0;34m,\u001b[0m \u001b[0mtrain_size\u001b[0m\u001b[0;34m,\u001b[0m \u001b[0mdefault_test_size\u001b[0m\u001b[0;34m=\u001b[0m\u001b[0;36m0.25\u001b[0m\u001b[0;34m\u001b[0m\u001b[0;34m\u001b[0m\u001b[0m\n\u001b[1;32m   2564\u001b[0m     )\n",
            "\u001b[0;32m/usr/local/lib/python3.10/dist-packages/sklearn/model_selection/_split.py\u001b[0m in \u001b[0;36m_validate_shuffle_split\u001b[0;34m(n_samples, test_size, train_size, default_test_size)\u001b[0m\n\u001b[1;32m   2234\u001b[0m \u001b[0;34m\u001b[0m\u001b[0m\n\u001b[1;32m   2235\u001b[0m     \u001b[0;32mif\u001b[0m \u001b[0mn_train\u001b[0m \u001b[0;34m==\u001b[0m \u001b[0;36m0\u001b[0m\u001b[0;34m:\u001b[0m\u001b[0;34m\u001b[0m\u001b[0;34m\u001b[0m\u001b[0m\n\u001b[0;32m-> 2236\u001b[0;31m         raise ValueError(\n\u001b[0m\u001b[1;32m   2237\u001b[0m             \u001b[0;34m\"With n_samples={}, test_size={} and train_size={}, the \"\u001b[0m\u001b[0;34m\u001b[0m\u001b[0;34m\u001b[0m\u001b[0m\n\u001b[1;32m   2238\u001b[0m             \u001b[0;34m\"resulting train set will be empty. Adjust any of the \"\u001b[0m\u001b[0;34m\u001b[0m\u001b[0;34m\u001b[0m\u001b[0m\n",
            "\u001b[0;31mValueError\u001b[0m: With n_samples=0, test_size=0.1 and train_size=None, the resulting train set will be empty. Adjust any of the aforementioned parameters."
          ]
        }
      ],
      "source": [
        "x_face_train, x_face_test, y_face_train, y_face_test = train_test_split(image_arrays, y_face_one_hot, test_size=0.1, random_state=42)\n",
        "#x_emotion_train, x_emotion_test, y_emotion_train, y_emotion_test = train_test_split(image_arrays, y_emotion_one_hot, test_size=0.1, random_state=42)"
      ]
    },
    {
      "cell_type": "code",
      "execution_count": null,
      "metadata": {
        "id": "s3Tyaj0TOzRm",
        "outputId": "cb56b7bc-7b46-41ad-94ad-c26bfeeecb5b"
      },
      "outputs": [
        {
          "data": {
            "text/plain": [
              "((4317, 2), (4317, 3), (4317, 100, 100, 3))"
            ]
          },
          "execution_count": 99,
          "metadata": {},
          "output_type": "execute_result"
        }
      ],
      "source": [
        "# from tensorflow.keras.callbacks import EarlyStopping\n",
        "# early_stopping = EarlyStopping(monitor='val_loss', patience=5, verbose=1, restore_best_weights=True)\n",
        "y_face_train.shape, y_emotion_train.shape, x_face_train.shape"
      ]
    },
    {
      "cell_type": "markdown",
      "metadata": {
        "id": "n_vgGYNROzRn"
      },
      "source": [
        "## Train the model"
      ]
    },
    {
      "cell_type": "code",
      "execution_count": null,
      "metadata": {
        "id": "5RwJ6Z67OzRn",
        "outputId": "344efbf0-0d88-4619-9eef-2bb3635bf0a4"
      },
      "outputs": [
        {
          "name": "stdout",
          "output_type": "stream",
          "text": [
            "Epoch 1/10\n",
            "108/108 [==============================] - 45s 404ms/step - loss: 0.9952 - face_recognition_loss: 0.0965 - emotion_recognition_loss: 0.8987 - face_recognition_accuracy: 0.9684 - emotion_recognition_accuracy: 0.5694 - val_loss: 1.0398 - val_face_recognition_loss: 0.0050 - val_emotion_recognition_loss: 1.0349 - val_face_recognition_accuracy: 1.0000 - val_emotion_recognition_accuracy: 0.5382\n",
            "Epoch 2/10\n",
            "108/108 [==============================] - 43s 399ms/step - loss: 0.3940 - face_recognition_loss: 0.0316 - emotion_recognition_loss: 0.3623 - face_recognition_accuracy: 0.9936 - emotion_recognition_accuracy: 0.8477 - val_loss: 0.7484 - val_face_recognition_loss: 0.0012 - val_emotion_recognition_loss: 0.7472 - val_face_recognition_accuracy: 1.0000 - val_emotion_recognition_accuracy: 0.7477\n",
            "Epoch 3/10\n",
            "108/108 [==============================] - 42s 392ms/step - loss: 0.1710 - face_recognition_loss: 3.9440e-04 - emotion_recognition_loss: 0.1706 - face_recognition_accuracy: 1.0000 - emotion_recognition_accuracy: 0.9377 - val_loss: 0.4124 - val_face_recognition_loss: 2.8199e-04 - val_emotion_recognition_loss: 0.4121 - val_face_recognition_accuracy: 1.0000 - val_emotion_recognition_accuracy: 0.9572\n",
            "Epoch 4/10\n",
            "108/108 [==============================] - 41s 377ms/step - loss: 0.1168 - face_recognition_loss: 5.7333e-05 - emotion_recognition_loss: 0.1168 - face_recognition_accuracy: 1.0000 - emotion_recognition_accuracy: 0.9583 - val_loss: 0.3024 - val_face_recognition_loss: 8.8852e-05 - val_emotion_recognition_loss: 0.3023 - val_face_recognition_accuracy: 1.0000 - val_emotion_recognition_accuracy: 0.9109\n",
            "Epoch 5/10\n",
            "108/108 [==============================] - 42s 390ms/step - loss: 0.0999 - face_recognition_loss: 4.6960e-05 - emotion_recognition_loss: 0.0998 - face_recognition_accuracy: 1.0000 - emotion_recognition_accuracy: 0.9658 - val_loss: 0.1744 - val_face_recognition_loss: 1.6577e-04 - val_emotion_recognition_loss: 0.1742 - val_face_recognition_accuracy: 1.0000 - val_emotion_recognition_accuracy: 0.9433\n",
            "Epoch 6/10\n",
            "108/108 [==============================] - 42s 387ms/step - loss: 0.0958 - face_recognition_loss: 0.0103 - emotion_recognition_loss: 0.0855 - face_recognition_accuracy: 0.9974 - emotion_recognition_accuracy: 0.9705 - val_loss: 0.1253 - val_face_recognition_loss: 7.3036e-04 - val_emotion_recognition_loss: 0.1246 - val_face_recognition_accuracy: 1.0000 - val_emotion_recognition_accuracy: 0.9606\n",
            "Epoch 7/10\n",
            "108/108 [==============================] - 41s 383ms/step - loss: 0.0749 - face_recognition_loss: 0.0014 - emotion_recognition_loss: 0.0735 - face_recognition_accuracy: 0.9997 - emotion_recognition_accuracy: 0.9751 - val_loss: 0.3691 - val_face_recognition_loss: 1.9987e-04 - val_emotion_recognition_loss: 0.3689 - val_face_recognition_accuracy: 1.0000 - val_emotion_recognition_accuracy: 0.8762\n",
            "Epoch 8/10\n",
            "108/108 [==============================] - 40s 374ms/step - loss: 0.0602 - face_recognition_loss: 5.7801e-05 - emotion_recognition_loss: 0.0601 - face_recognition_accuracy: 1.0000 - emotion_recognition_accuracy: 0.9780 - val_loss: 0.0816 - val_face_recognition_loss: 3.0670e-05 - val_emotion_recognition_loss: 0.0815 - val_face_recognition_accuracy: 1.0000 - val_emotion_recognition_accuracy: 0.9792\n",
            "Epoch 9/10\n",
            "108/108 [==============================] - 41s 380ms/step - loss: 0.0414 - face_recognition_loss: 1.4493e-05 - emotion_recognition_loss: 0.0414 - face_recognition_accuracy: 1.0000 - emotion_recognition_accuracy: 0.9847 - val_loss: 0.1215 - val_face_recognition_loss: 7.9392e-04 - val_emotion_recognition_loss: 0.1207 - val_face_recognition_accuracy: 1.0000 - val_emotion_recognition_accuracy: 0.9549\n",
            "Epoch 10/10\n",
            "108/108 [==============================] - 42s 387ms/step - loss: 0.0432 - face_recognition_loss: 3.1427e-06 - emotion_recognition_loss: 0.0432 - face_recognition_accuracy: 1.0000 - emotion_recognition_accuracy: 0.9841 - val_loss: 0.2668 - val_face_recognition_loss: 1.0998e-05 - val_emotion_recognition_loss: 0.2668 - val_face_recognition_accuracy: 1.0000 - val_emotion_recognition_accuracy: 0.9132\n"
          ]
        },
        {
          "data": {
            "text/plain": [
              "<keras.callbacks.History at 0x241a5171c40>"
            ]
          },
          "execution_count": 100,
          "metadata": {},
          "output_type": "execute_result"
        }
      ],
      "source": [
        "combined_model.fit(x_face_train, {'face_recognition': y_face_train, 'emotion_recognition': y_emotion_train},\n",
        "                   epochs=10, batch_size=32, validation_split=0.2)"
      ]
    },
    {
      "cell_type": "code",
      "execution_count": null,
      "metadata": {
        "id": "egkoG3bCOzRn",
        "outputId": "a85d3f49-08b2-4c2e-f040-2c13511558e5"
      },
      "outputs": [
        {
          "name": "stdout",
          "output_type": "stream",
          "text": [
            "15/15 [==============================] - 1s 40ms/step - loss: 0.1892 - face_recognition_loss: 1.3923e-05 - emotion_recognition_loss: 0.1892 - face_recognition_accuracy: 1.0000 - emotion_recognition_accuracy: 0.9354\n"
          ]
        }
      ],
      "source": [
        "face_evaluation = combined_model.evaluate(x_face_test, (y_face_test, y_emotion_test))"
      ]
    },
    {
      "cell_type": "code",
      "execution_count": null,
      "metadata": {
        "id": "JiWEu6GYOzRn"
      },
      "outputs": [],
      "source": [
        "# index = 24\n",
        "# face_arr = [\"Peter\", \"Sandra\"]\n",
        "# emotion_arr = [\"Happy\", \"Neutral\", \"Sad\"]\n",
        "# predictions = combined_model.predict(x_face_test)\n",
        "# face_predictions, emotion_predictions = predictions\n",
        "# face_prediction_for_image = face_predictions[index]\n",
        "# emotion_prediction_for_image = emotion_predictions[index]\n",
        "\n",
        "# # Use argmax to get the predicted classes (assuming it's classification)\n",
        "# predicted_face_class = np.argmax(face_prediction_for_image)\n",
        "# predicted_emotion_class = np.argmax(emotion_prediction_for_image)\n"
      ]
    },
    {
      "cell_type": "code",
      "execution_count": null,
      "metadata": {
        "id": "JUfbays9OzRo"
      },
      "outputs": [],
      "source": [
        "# face_arr[predicted_face_class], emotion_arr[predicted_emotion_class]"
      ]
    },
    {
      "cell_type": "code",
      "execution_count": null,
      "metadata": {
        "id": "rQ1I6m1hOzRo"
      },
      "outputs": [],
      "source": [
        "# cv2.imshow('img',x_face_test[24])\n",
        "# cv2.waitKey(0)"
      ]
    },
    {
      "cell_type": "code",
      "execution_count": null,
      "metadata": {
        "id": "RG63CD-vOzRo",
        "outputId": "4f664205-b0eb-4f5a-df85-60fa79136932"
      },
      "outputs": [
        {
          "data": {
            "text/plain": [
              "array([9.9999994e-01, 5.4493441e-08, 4.0653614e-10], dtype=float32)"
            ]
          },
          "execution_count": 105,
          "metadata": {},
          "output_type": "execute_result"
        }
      ],
      "source": [
        "# emotion_predictions[1]"
      ]
    },
    {
      "cell_type": "code",
      "execution_count": null,
      "metadata": {
        "id": "sgd4VZSXOzRo",
        "outputId": "00e7fb56-b5ca-449c-9808-b10b114c4577"
      },
      "outputs": [
        {
          "data": {
            "text/plain": [
              "(480, 100, 100, 3)"
            ]
          },
          "execution_count": 106,
          "metadata": {},
          "output_type": "execute_result"
        }
      ],
      "source": [
        "# x_face_test.shape"
      ]
    },
    {
      "cell_type": "code",
      "execution_count": null,
      "metadata": {
        "id": "-0GI7TycOzRp"
      },
      "outputs": [],
      "source": [
        "# test_im_path = \"D:\\\\Deep learning project\\\\p_happy21.jpg\"\n",
        "# img = cv2.imread(test_im_path)\n",
        "# res_img = cv2.resize(img, (100, 100))\n",
        "# res_img = res_img.reshape((1,) + res_img.shape)\n",
        "# res_img.shape"
      ]
    },
    {
      "cell_type": "code",
      "execution_count": null,
      "metadata": {
        "id": "AsR8lK0qOzRp"
      },
      "outputs": [],
      "source": [
        "# cv2.imshow('im', res_img)\n",
        "# cv2.waitKey(0)"
      ]
    },
    {
      "cell_type": "code",
      "execution_count": null,
      "metadata": {
        "id": "_vudE1UQOzRp"
      },
      "outputs": [],
      "source": [
        "# predictions = combined_model.predict(res_img)\n",
        "# face_predictions, emotion_predictions = predictions\n",
        "# face_prediction_for_image = face_predictions\n",
        "# emotion_prediction_for_image = emotion_predictions\n",
        "# predicted_face_class = np.argmax(face_prediction_for_image)\n",
        "# predicted_emotion_class = np.argmax(emotion_prediction_for_image)"
      ]
    },
    {
      "cell_type": "code",
      "execution_count": null,
      "metadata": {
        "id": "NxfJoj5IOzRp"
      },
      "outputs": [],
      "source": [
        "# face_predictions, emotion_predictions"
      ]
    },
    {
      "cell_type": "code",
      "execution_count": null,
      "metadata": {
        "id": "NR8LUscTOzRp"
      },
      "outputs": [],
      "source": [
        "# predictions"
      ]
    },
    {
      "cell_type": "code",
      "execution_count": null,
      "metadata": {
        "id": "38JzbMCFOzRq",
        "outputId": "77627153-4855-4714-ba8b-e0735c2bbb43"
      },
      "outputs": [
        {
          "data": {
            "text/plain": [
              "('Peter', 'Neutral')"
            ]
          },
          "execution_count": 110,
          "metadata": {},
          "output_type": "execute_result"
        }
      ],
      "source": [
        "face_arr[predicted_face_class], emotion_arr[predicted_emotion_class]\n"
      ]
    },
    {
      "cell_type": "code",
      "execution_count": null,
      "metadata": {
        "id": "Cc0p4xx3OzRq",
        "outputId": "2fa5f077-d63e-4e45-cd35-398830eac90f"
      },
      "outputs": [
        {
          "data": {
            "text/plain": [
              "[array([[1., 0.]], dtype=float32), array([[0., 1., 0.]], dtype=float32)]"
            ]
          },
          "execution_count": 111,
          "metadata": {},
          "output_type": "execute_result"
        }
      ],
      "source": [
        "predictions"
      ]
    },
    {
      "cell_type": "markdown",
      "metadata": {
        "id": "d2qMG8kBOzRq"
      },
      "source": [
        "## Live camera"
      ]
    },
    {
      "cell_type": "code",
      "execution_count": null,
      "metadata": {
        "id": "iUY4Pl4sOzR1",
        "outputId": "4733e4e2-83bd-43d5-8d65-e9bf548d9733"
      },
      "outputs": [
        {
          "name": "stdout",
          "output_type": "stream",
          "text": [
            "1/1 [==============================] - 0s 185ms/step\n",
            "1/1 [==============================] - 0s 122ms/step\n",
            "1/1 [==============================] - 0s 125ms/step\n",
            "1/1 [==============================] - 0s 150ms/step\n",
            "1/1 [==============================] - 0s 147ms/step\n",
            "1/1 [==============================] - 0s 30ms/step\n",
            "1/1 [==============================] - 0s 28ms/step\n",
            "1/1 [==============================] - 0s 28ms/step\n",
            "1/1 [==============================] - 0s 28ms/step\n",
            "1/1 [==============================] - 0s 30ms/step\n",
            "1/1 [==============================] - 0s 32ms/step\n",
            "1/1 [==============================] - 0s 28ms/step\n",
            "1/1 [==============================] - 0s 28ms/step\n",
            "1/1 [==============================] - 0s 32ms/step\n",
            "1/1 [==============================] - 0s 145ms/step\n",
            "1/1 [==============================] - 0s 32ms/step\n",
            "1/1 [==============================] - 0s 29ms/step\n",
            "1/1 [==============================] - 0s 28ms/step\n",
            "1/1 [==============================] - 0s 33ms/step\n",
            "1/1 [==============================] - 0s 32ms/step\n",
            "1/1 [==============================] - 0s 32ms/step\n",
            "1/1 [==============================] - 0s 30ms/step\n",
            "1/1 [==============================] - 0s 34ms/step\n",
            "1/1 [==============================] - 0s 28ms/step\n",
            "1/1 [==============================] - 0s 37ms/step\n",
            "1/1 [==============================] - 0s 132ms/step\n",
            "1/1 [==============================] - 0s 139ms/step\n",
            "1/1 [==============================] - 0s 38ms/step\n",
            "1/1 [==============================] - 0s 37ms/step\n",
            "1/1 [==============================] - 0s 39ms/step\n",
            "1/1 [==============================] - 0s 39ms/step\n",
            "1/1 [==============================] - 0s 35ms/step\n",
            "1/1 [==============================] - 0s 39ms/step\n",
            "1/1 [==============================] - 0s 39ms/step\n",
            "1/1 [==============================] - 0s 35ms/step\n",
            "1/1 [==============================] - 0s 36ms/step\n",
            "1/1 [==============================] - 0s 34ms/step\n",
            "1/1 [==============================] - 0s 32ms/step\n",
            "1/1 [==============================] - 0s 31ms/step\n",
            "1/1 [==============================] - 0s 29ms/step\n",
            "1/1 [==============================] - 0s 28ms/step\n",
            "1/1 [==============================] - 0s 31ms/step\n",
            "1/1 [==============================] - 0s 31ms/step\n",
            "1/1 [==============================] - 0s 32ms/step\n",
            "1/1 [==============================] - 0s 28ms/step\n",
            "1/1 [==============================] - 0s 31ms/step\n",
            "1/1 [==============================] - 0s 34ms/step\n",
            "1/1 [==============================] - 0s 30ms/step\n",
            "1/1 [==============================] - 0s 30ms/step\n",
            "1/1 [==============================] - 0s 33ms/step\n",
            "1/1 [==============================] - 0s 34ms/step\n",
            "1/1 [==============================] - 0s 31ms/step\n",
            "1/1 [==============================] - 0s 32ms/step\n",
            "1/1 [==============================] - 0s 31ms/step\n",
            "1/1 [==============================] - 0s 32ms/step\n",
            "1/1 [==============================] - 0s 33ms/step\n",
            "1/1 [==============================] - 0s 30ms/step\n",
            "1/1 [==============================] - 0s 33ms/step\n",
            "1/1 [==============================] - 0s 32ms/step\n",
            "1/1 [==============================] - 0s 30ms/step\n",
            "1/1 [==============================] - 0s 36ms/step\n",
            "1/1 [==============================] - 0s 29ms/step\n",
            "1/1 [==============================] - 0s 31ms/step\n",
            "1/1 [==============================] - 0s 29ms/step\n",
            "1/1 [==============================] - 0s 31ms/step\n",
            "1/1 [==============================] - 0s 29ms/step\n",
            "1/1 [==============================] - 0s 30ms/step\n",
            "1/1 [==============================] - 0s 30ms/step\n",
            "1/1 [==============================] - 0s 32ms/step\n",
            "1/1 [==============================] - 0s 31ms/step\n",
            "1/1 [==============================] - 0s 33ms/step\n",
            "1/1 [==============================] - 0s 31ms/step\n",
            "1/1 [==============================] - 0s 35ms/step\n",
            "1/1 [==============================] - 0s 33ms/step\n",
            "1/1 [==============================] - 0s 31ms/step\n",
            "1/1 [==============================] - 0s 34ms/step\n",
            "1/1 [==============================] - 0s 36ms/step\n",
            "1/1 [==============================] - 0s 31ms/step\n",
            "1/1 [==============================] - 0s 30ms/step\n",
            "1/1 [==============================] - 0s 30ms/step\n",
            "1/1 [==============================] - 0s 30ms/step\n",
            "1/1 [==============================] - 0s 31ms/step\n",
            "1/1 [==============================] - 0s 35ms/step\n",
            "1/1 [==============================] - 0s 29ms/step\n",
            "1/1 [==============================] - 0s 30ms/step\n",
            "1/1 [==============================] - 0s 28ms/step\n",
            "1/1 [==============================] - 0s 43ms/step\n",
            "1/1 [==============================] - 0s 33ms/step\n",
            "1/1 [==============================] - 0s 29ms/step\n",
            "1/1 [==============================] - 0s 28ms/step\n",
            "1/1 [==============================] - 0s 25ms/step\n",
            "1/1 [==============================] - 0s 30ms/step\n",
            "1/1 [==============================] - 0s 28ms/step\n",
            "1/1 [==============================] - 0s 32ms/step\n",
            "1/1 [==============================] - 0s 52ms/step\n",
            "1/1 [==============================] - 0s 29ms/step\n",
            "1/1 [==============================] - 0s 32ms/step\n",
            "1/1 [==============================] - 0s 30ms/step\n",
            "1/1 [==============================] - 0s 29ms/step\n",
            "1/1 [==============================] - 0s 31ms/step\n",
            "1/1 [==============================] - 0s 29ms/step\n",
            "1/1 [==============================] - 0s 28ms/step\n",
            "1/1 [==============================] - 0s 32ms/step\n",
            "1/1 [==============================] - 0s 30ms/step\n",
            "1/1 [==============================] - 0s 29ms/step\n",
            "1/1 [==============================] - 0s 26ms/step\n",
            "1/1 [==============================] - 0s 29ms/step\n",
            "1/1 [==============================] - 0s 32ms/step\n",
            "1/1 [==============================] - 0s 28ms/step\n",
            "1/1 [==============================] - 0s 30ms/step\n",
            "1/1 [==============================] - 0s 32ms/step\n",
            "1/1 [==============================] - 0s 29ms/step\n",
            "1/1 [==============================] - 0s 29ms/step\n",
            "1/1 [==============================] - 0s 29ms/step\n",
            "1/1 [==============================] - 0s 32ms/step\n",
            "1/1 [==============================] - 0s 30ms/step\n",
            "1/1 [==============================] - 0s 30ms/step\n",
            "1/1 [==============================] - 0s 31ms/step\n",
            "1/1 [==============================] - 0s 28ms/step\n",
            "1/1 [==============================] - 0s 30ms/step\n",
            "1/1 [==============================] - 0s 33ms/step\n",
            "1/1 [==============================] - 0s 32ms/step\n",
            "1/1 [==============================] - 0s 28ms/step\n",
            "1/1 [==============================] - 0s 31ms/step\n",
            "1/1 [==============================] - 0s 29ms/step\n",
            "1/1 [==============================] - 0s 31ms/step\n",
            "1/1 [==============================] - 0s 31ms/step\n",
            "1/1 [==============================] - 0s 126ms/step\n",
            "1/1 [==============================] - 0s 32ms/step\n",
            "1/1 [==============================] - 0s 30ms/step\n",
            "1/1 [==============================] - 0s 31ms/step\n",
            "1/1 [==============================] - 0s 30ms/step\n",
            "1/1 [==============================] - 0s 32ms/step\n",
            "1/1 [==============================] - 0s 30ms/step\n",
            "1/1 [==============================] - 0s 30ms/step\n",
            "1/1 [==============================] - 0s 30ms/step\n",
            "1/1 [==============================] - 0s 29ms/step\n",
            "1/1 [==============================] - 0s 28ms/step\n",
            "1/1 [==============================] - 0s 29ms/step\n",
            "1/1 [==============================] - 0s 31ms/step\n",
            "1/1 [==============================] - 0s 30ms/step\n",
            "1/1 [==============================] - 0s 30ms/step\n",
            "1/1 [==============================] - 0s 31ms/step\n",
            "1/1 [==============================] - 0s 30ms/step\n",
            "1/1 [==============================] - 0s 53ms/step\n",
            "1/1 [==============================] - 0s 32ms/step\n",
            "1/1 [==============================] - 0s 30ms/step\n",
            "1/1 [==============================] - 0s 33ms/step\n",
            "1/1 [==============================] - 0s 31ms/step\n",
            "1/1 [==============================] - 0s 33ms/step\n",
            "1/1 [==============================] - 0s 33ms/step\n",
            "1/1 [==============================] - 0s 28ms/step\n",
            "1/1 [==============================] - 0s 27ms/step\n",
            "1/1 [==============================] - 0s 29ms/step\n",
            "1/1 [==============================] - 0s 31ms/step\n",
            "1/1 [==============================] - 0s 28ms/step\n",
            "1/1 [==============================] - 0s 30ms/step\n",
            "1/1 [==============================] - 0s 31ms/step\n",
            "1/1 [==============================] - 0s 30ms/step\n",
            "1/1 [==============================] - 0s 28ms/step\n",
            "1/1 [==============================] - 0s 29ms/step\n",
            "1/1 [==============================] - 0s 29ms/step\n",
            "1/1 [==============================] - 0s 31ms/step\n",
            "1/1 [==============================] - 0s 31ms/step\n",
            "1/1 [==============================] - 0s 29ms/step\n",
            "1/1 [==============================] - 0s 28ms/step\n",
            "1/1 [==============================] - 0s 31ms/step\n",
            "1/1 [==============================] - 0s 30ms/step\n",
            "1/1 [==============================] - 0s 31ms/step\n",
            "1/1 [==============================] - 0s 32ms/step\n",
            "1/1 [==============================] - 0s 29ms/step\n",
            "1/1 [==============================] - 0s 32ms/step\n",
            "1/1 [==============================] - 0s 31ms/step\n",
            "1/1 [==============================] - 0s 29ms/step\n",
            "1/1 [==============================] - 0s 33ms/step\n",
            "1/1 [==============================] - 0s 28ms/step\n",
            "1/1 [==============================] - 0s 30ms/step\n",
            "1/1 [==============================] - 0s 30ms/step\n",
            "1/1 [==============================] - 0s 30ms/step\n",
            "1/1 [==============================] - 0s 31ms/step\n",
            "1/1 [==============================] - 0s 32ms/step\n",
            "1/1 [==============================] - 0s 32ms/step\n",
            "1/1 [==============================] - 0s 29ms/step\n",
            "1/1 [==============================] - 0s 108ms/step\n",
            "1/1 [==============================] - 0s 29ms/step\n",
            "1/1 [==============================] - 0s 64ms/step\n",
            "1/1 [==============================] - 0s 30ms/step\n",
            "1/1 [==============================] - 0s 31ms/step\n",
            "1/1 [==============================] - 0s 29ms/step\n",
            "1/1 [==============================] - 0s 30ms/step\n",
            "1/1 [==============================] - 0s 28ms/step\n",
            "1/1 [==============================] - 0s 29ms/step\n",
            "1/1 [==============================] - 0s 31ms/step\n",
            "1/1 [==============================] - 0s 32ms/step\n",
            "1/1 [==============================] - 0s 31ms/step\n",
            "1/1 [==============================] - 0s 30ms/step\n",
            "1/1 [==============================] - 0s 28ms/step\n",
            "1/1 [==============================] - 0s 33ms/step\n",
            "1/1 [==============================] - 0s 31ms/step\n",
            "1/1 [==============================] - 0s 30ms/step\n",
            "1/1 [==============================] - 0s 34ms/step\n",
            "1/1 [==============================] - 0s 27ms/step\n",
            "1/1 [==============================] - 0s 28ms/step\n",
            "1/1 [==============================] - 0s 30ms/step\n",
            "1/1 [==============================] - 0s 32ms/step\n",
            "1/1 [==============================] - 0s 26ms/step\n",
            "1/1 [==============================] - 0s 29ms/step\n",
            "1/1 [==============================] - 0s 28ms/step\n",
            "1/1 [==============================] - 0s 30ms/step\n",
            "1/1 [==============================] - 0s 29ms/step\n",
            "1/1 [==============================] - 0s 32ms/step\n",
            "1/1 [==============================] - 0s 29ms/step\n",
            "1/1 [==============================] - 0s 30ms/step\n",
            "1/1 [==============================] - 0s 32ms/step\n",
            "1/1 [==============================] - 0s 32ms/step\n",
            "1/1 [==============================] - 0s 28ms/step\n",
            "1/1 [==============================] - 0s 31ms/step\n",
            "1/1 [==============================] - 0s 32ms/step\n",
            "1/1 [==============================] - 0s 36ms/step\n",
            "1/1 [==============================] - 0s 28ms/step\n",
            "1/1 [==============================] - 0s 30ms/step\n",
            "1/1 [==============================] - 0s 30ms/step\n",
            "1/1 [==============================] - 0s 28ms/step\n",
            "1/1 [==============================] - 0s 33ms/step\n",
            "1/1 [==============================] - 0s 30ms/step\n",
            "1/1 [==============================] - 0s 32ms/step\n",
            "1/1 [==============================] - 0s 32ms/step\n",
            "1/1 [==============================] - 0s 32ms/step\n",
            "1/1 [==============================] - 0s 30ms/step\n",
            "1/1 [==============================] - 0s 27ms/step\n",
            "1/1 [==============================] - 0s 33ms/step\n",
            "1/1 [==============================] - 0s 30ms/step\n",
            "1/1 [==============================] - 0s 32ms/step\n",
            "1/1 [==============================] - 0s 30ms/step\n",
            "1/1 [==============================] - 0s 30ms/step\n",
            "1/1 [==============================] - 0s 28ms/step\n",
            "1/1 [==============================] - 0s 31ms/step\n",
            "1/1 [==============================] - 0s 30ms/step\n",
            "1/1 [==============================] - 0s 28ms/step\n",
            "1/1 [==============================] - 0s 32ms/step\n",
            "1/1 [==============================] - 0s 31ms/step\n",
            "1/1 [==============================] - 0s 32ms/step\n",
            "1/1 [==============================] - 0s 28ms/step\n",
            "1/1 [==============================] - 0s 29ms/step\n",
            "1/1 [==============================] - 0s 31ms/step\n",
            "1/1 [==============================] - 0s 34ms/step\n",
            "1/1 [==============================] - 0s 33ms/step\n",
            "1/1 [==============================] - 0s 29ms/step\n",
            "1/1 [==============================] - 0s 30ms/step\n",
            "1/1 [==============================] - 0s 32ms/step\n",
            "1/1 [==============================] - 0s 25ms/step\n",
            "1/1 [==============================] - 0s 31ms/step\n",
            "1/1 [==============================] - 0s 27ms/step\n",
            "1/1 [==============================] - 0s 28ms/step\n",
            "1/1 [==============================] - 0s 34ms/step\n",
            "1/1 [==============================] - 0s 31ms/step\n",
            "1/1 [==============================] - 0s 28ms/step\n",
            "1/1 [==============================] - 0s 30ms/step\n",
            "1/1 [==============================] - 0s 32ms/step\n",
            "1/1 [==============================] - 0s 140ms/step\n",
            "1/1 [==============================] - 0s 31ms/step\n",
            "1/1 [==============================] - 0s 30ms/step\n",
            "1/1 [==============================] - 0s 28ms/step\n",
            "1/1 [==============================] - 0s 28ms/step\n",
            "1/1 [==============================] - 0s 28ms/step\n",
            "1/1 [==============================] - 0s 25ms/step\n",
            "1/1 [==============================] - 0s 29ms/step\n",
            "1/1 [==============================] - 0s 27ms/step\n",
            "1/1 [==============================] - 0s 29ms/step\n",
            "1/1 [==============================] - 0s 29ms/step\n",
            "1/1 [==============================] - 0s 27ms/step\n",
            "1/1 [==============================] - 0s 29ms/step\n",
            "1/1 [==============================] - 0s 25ms/step\n",
            "1/1 [==============================] - 0s 33ms/step\n",
            "1/1 [==============================] - 0s 28ms/step\n",
            "1/1 [==============================] - 0s 30ms/step\n",
            "1/1 [==============================] - 0s 27ms/step\n",
            "1/1 [==============================] - 0s 28ms/step\n",
            "1/1 [==============================] - 0s 32ms/step\n",
            "1/1 [==============================] - 0s 28ms/step\n",
            "1/1 [==============================] - 0s 33ms/step\n",
            "1/1 [==============================] - 0s 32ms/step\n",
            "1/1 [==============================] - 0s 34ms/step\n",
            "1/1 [==============================] - 0s 29ms/step\n",
            "1/1 [==============================] - 0s 29ms/step\n",
            "1/1 [==============================] - 0s 30ms/step\n",
            "1/1 [==============================] - 0s 33ms/step\n",
            "1/1 [==============================] - 0s 32ms/step\n",
            "1/1 [==============================] - 0s 32ms/step\n",
            "1/1 [==============================] - 0s 30ms/step\n",
            "1/1 [==============================] - 0s 28ms/step\n",
            "1/1 [==============================] - 0s 34ms/step\n",
            "1/1 [==============================] - 0s 26ms/step\n",
            "1/1 [==============================] - 0s 29ms/step\n",
            "1/1 [==============================] - 0s 33ms/step\n",
            "1/1 [==============================] - 0s 30ms/step\n",
            "1/1 [==============================] - 0s 30ms/step\n",
            "1/1 [==============================] - 0s 31ms/step\n",
            "1/1 [==============================] - 0s 33ms/step\n",
            "1/1 [==============================] - 0s 26ms/step\n",
            "1/1 [==============================] - 0s 27ms/step\n",
            "1/1 [==============================] - 0s 29ms/step\n",
            "1/1 [==============================] - 0s 27ms/step\n",
            "1/1 [==============================] - 0s 25ms/step\n",
            "1/1 [==============================] - 0s 28ms/step\n",
            "1/1 [==============================] - 0s 28ms/step\n",
            "1/1 [==============================] - 0s 30ms/step\n",
            "1/1 [==============================] - 0s 31ms/step\n",
            "1/1 [==============================] - 0s 30ms/step\n",
            "1/1 [==============================] - 0s 29ms/step\n",
            "1/1 [==============================] - 0s 28ms/step\n",
            "1/1 [==============================] - 0s 30ms/step\n",
            "1/1 [==============================] - 0s 29ms/step\n",
            "1/1 [==============================] - 0s 30ms/step\n",
            "1/1 [==============================] - 0s 32ms/step\n",
            "1/1 [==============================] - 0s 32ms/step\n",
            "1/1 [==============================] - 0s 28ms/step\n",
            "1/1 [==============================] - 0s 29ms/step\n",
            "1/1 [==============================] - 0s 32ms/step\n",
            "1/1 [==============================] - 0s 31ms/step\n",
            "1/1 [==============================] - 0s 30ms/step\n",
            "1/1 [==============================] - 0s 26ms/step\n",
            "1/1 [==============================] - 0s 32ms/step\n",
            "1/1 [==============================] - 0s 30ms/step\n",
            "1/1 [==============================] - 0s 29ms/step\n",
            "1/1 [==============================] - 0s 27ms/step\n",
            "1/1 [==============================] - 0s 29ms/step\n",
            "1/1 [==============================] - 0s 28ms/step\n",
            "1/1 [==============================] - 0s 30ms/step\n",
            "1/1 [==============================] - 0s 31ms/step\n",
            "1/1 [==============================] - 0s 30ms/step\n",
            "1/1 [==============================] - 0s 32ms/step\n",
            "1/1 [==============================] - 0s 32ms/step\n",
            "1/1 [==============================] - 0s 28ms/step\n",
            "1/1 [==============================] - 0s 27ms/step\n",
            "1/1 [==============================] - 0s 27ms/step\n",
            "1/1 [==============================] - 0s 27ms/step\n",
            "1/1 [==============================] - 0s 30ms/step\n",
            "1/1 [==============================] - 0s 30ms/step\n",
            "1/1 [==============================] - 0s 28ms/step\n",
            "1/1 [==============================] - 0s 28ms/step\n",
            "1/1 [==============================] - 0s 28ms/step\n",
            "1/1 [==============================] - 0s 30ms/step\n",
            "1/1 [==============================] - 0s 26ms/step\n",
            "1/1 [==============================] - 0s 31ms/step\n",
            "1/1 [==============================] - 0s 29ms/step\n",
            "1/1 [==============================] - 0s 31ms/step\n",
            "1/1 [==============================] - 0s 29ms/step\n",
            "1/1 [==============================] - 0s 27ms/step\n",
            "1/1 [==============================] - 0s 30ms/step\n",
            "1/1 [==============================] - 0s 30ms/step\n",
            "1/1 [==============================] - 0s 28ms/step\n",
            "1/1 [==============================] - 0s 32ms/step\n",
            "1/1 [==============================] - 0s 29ms/step\n",
            "1/1 [==============================] - 0s 28ms/step\n",
            "1/1 [==============================] - 0s 26ms/step\n",
            "1/1 [==============================] - 0s 28ms/step\n",
            "1/1 [==============================] - 0s 32ms/step\n",
            "1/1 [==============================] - 0s 29ms/step\n",
            "1/1 [==============================] - 0s 29ms/step\n",
            "1/1 [==============================] - 0s 33ms/step\n",
            "1/1 [==============================] - 0s 34ms/step\n",
            "1/1 [==============================] - 0s 34ms/step\n",
            "1/1 [==============================] - 0s 30ms/step\n",
            "1/1 [==============================] - 0s 30ms/step\n",
            "1/1 [==============================] - 0s 34ms/step\n",
            "1/1 [==============================] - 0s 32ms/step\n",
            "1/1 [==============================] - 0s 29ms/step\n",
            "1/1 [==============================] - 0s 31ms/step\n",
            "1/1 [==============================] - 0s 28ms/step\n",
            "1/1 [==============================] - 0s 28ms/step\n",
            "1/1 [==============================] - 0s 29ms/step\n",
            "1/1 [==============================] - 0s 32ms/step\n",
            "1/1 [==============================] - 0s 31ms/step\n",
            "1/1 [==============================] - 0s 29ms/step\n",
            "1/1 [==============================] - 0s 136ms/step\n",
            "1/1 [==============================] - 0s 30ms/step\n",
            "1/1 [==============================] - 0s 30ms/step\n",
            "1/1 [==============================] - 0s 29ms/step\n",
            "1/1 [==============================] - 0s 72ms/step\n",
            "1/1 [==============================] - 0s 32ms/step\n",
            "1/1 [==============================] - 0s 32ms/step\n",
            "1/1 [==============================] - 0s 36ms/step\n",
            "1/1 [==============================] - 0s 32ms/step\n",
            "1/1 [==============================] - 0s 33ms/step\n",
            "1/1 [==============================] - 0s 31ms/step\n",
            "1/1 [==============================] - 0s 30ms/step\n",
            "1/1 [==============================] - 0s 26ms/step\n",
            "1/1 [==============================] - 0s 30ms/step\n",
            "1/1 [==============================] - 0s 27ms/step\n",
            "1/1 [==============================] - 0s 29ms/step\n",
            "1/1 [==============================] - 0s 25ms/step\n",
            "1/1 [==============================] - 0s 30ms/step\n",
            "1/1 [==============================] - 0s 32ms/step\n",
            "1/1 [==============================] - 0s 32ms/step\n",
            "1/1 [==============================] - 0s 28ms/step\n",
            "1/1 [==============================] - 0s 31ms/step\n",
            "1/1 [==============================] - 0s 29ms/step\n",
            "1/1 [==============================] - 0s 29ms/step\n",
            "1/1 [==============================] - 0s 28ms/step\n",
            "1/1 [==============================] - 0s 30ms/step\n",
            "1/1 [==============================] - 0s 29ms/step\n",
            "1/1 [==============================] - 0s 31ms/step\n",
            "1/1 [==============================] - 0s 87ms/step\n",
            "1/1 [==============================] - 0s 28ms/step\n",
            "1/1 [==============================] - 0s 28ms/step\n",
            "1/1 [==============================] - 0s 35ms/step\n",
            "1/1 [==============================] - 0s 29ms/step\n",
            "1/1 [==============================] - 0s 30ms/step\n",
            "1/1 [==============================] - 0s 34ms/step\n",
            "1/1 [==============================] - 0s 32ms/step\n",
            "1/1 [==============================] - 0s 30ms/step\n",
            "1/1 [==============================] - 0s 29ms/step\n",
            "1/1 [==============================] - 0s 33ms/step\n",
            "1/1 [==============================] - 0s 30ms/step\n",
            "1/1 [==============================] - 0s 33ms/step\n",
            "1/1 [==============================] - 0s 29ms/step\n",
            "1/1 [==============================] - 0s 36ms/step\n",
            "1/1 [==============================] - 0s 31ms/step\n",
            "1/1 [==============================] - 0s 29ms/step\n",
            "1/1 [==============================] - 0s 26ms/step\n",
            "1/1 [==============================] - 0s 31ms/step\n",
            "1/1 [==============================] - 0s 29ms/step\n",
            "1/1 [==============================] - 0s 30ms/step\n",
            "1/1 [==============================] - 0s 29ms/step\n",
            "1/1 [==============================] - 0s 30ms/step\n",
            "1/1 [==============================] - 0s 32ms/step\n",
            "1/1 [==============================] - 0s 28ms/step\n",
            "1/1 [==============================] - 0s 29ms/step\n",
            "1/1 [==============================] - 0s 32ms/step\n",
            "1/1 [==============================] - 0s 32ms/step\n",
            "1/1 [==============================] - 0s 31ms/step\n",
            "1/1 [==============================] - 0s 28ms/step\n",
            "1/1 [==============================] - 0s 32ms/step\n",
            "1/1 [==============================] - 0s 32ms/step\n",
            "1/1 [==============================] - 0s 32ms/step\n",
            "1/1 [==============================] - 0s 30ms/step\n",
            "1/1 [==============================] - 0s 30ms/step\n",
            "1/1 [==============================] - 0s 33ms/step\n",
            "1/1 [==============================] - 0s 31ms/step\n",
            "1/1 [==============================] - 0s 34ms/step\n",
            "1/1 [==============================] - 0s 32ms/step\n",
            "1/1 [==============================] - 0s 32ms/step\n",
            "1/1 [==============================] - 0s 31ms/step\n",
            "1/1 [==============================] - 0s 31ms/step\n",
            "1/1 [==============================] - 0s 29ms/step\n",
            "1/1 [==============================] - 0s 32ms/step\n",
            "1/1 [==============================] - 0s 32ms/step\n",
            "1/1 [==============================] - 0s 31ms/step\n",
            "1/1 [==============================] - 0s 32ms/step\n",
            "1/1 [==============================] - 0s 31ms/step\n",
            "1/1 [==============================] - 0s 32ms/step\n",
            "1/1 [==============================] - 0s 33ms/step\n",
            "1/1 [==============================] - 0s 34ms/step\n",
            "1/1 [==============================] - 0s 35ms/step\n",
            "1/1 [==============================] - 0s 33ms/step\n",
            "1/1 [==============================] - 0s 31ms/step\n",
            "1/1 [==============================] - 0s 33ms/step\n",
            "1/1 [==============================] - 0s 33ms/step\n",
            "1/1 [==============================] - 0s 32ms/step\n",
            "1/1 [==============================] - 0s 27ms/step\n",
            "1/1 [==============================] - 0s 31ms/step\n",
            "1/1 [==============================] - 0s 35ms/step\n",
            "1/1 [==============================] - 0s 30ms/step\n",
            "1/1 [==============================] - 0s 33ms/step\n",
            "1/1 [==============================] - 0s 32ms/step\n",
            "1/1 [==============================] - 0s 31ms/step\n",
            "1/1 [==============================] - 0s 31ms/step\n",
            "1/1 [==============================] - 0s 32ms/step\n",
            "1/1 [==============================] - 0s 32ms/step\n",
            "1/1 [==============================] - 0s 32ms/step\n",
            "1/1 [==============================] - 0s 32ms/step\n",
            "1/1 [==============================] - 0s 33ms/step\n",
            "1/1 [==============================] - 0s 32ms/step\n",
            "1/1 [==============================] - 0s 28ms/step\n",
            "1/1 [==============================] - 0s 88ms/step\n",
            "1/1 [==============================] - 0s 30ms/step\n",
            "1/1 [==============================] - 0s 35ms/step\n",
            "1/1 [==============================] - 0s 30ms/step\n",
            "1/1 [==============================] - 0s 30ms/step\n",
            "1/1 [==============================] - 0s 30ms/step\n",
            "1/1 [==============================] - 0s 32ms/step\n",
            "1/1 [==============================] - 0s 31ms/step\n",
            "1/1 [==============================] - 0s 35ms/step\n",
            "1/1 [==============================] - 0s 53ms/step\n",
            "1/1 [==============================] - 0s 30ms/step\n",
            "1/1 [==============================] - 0s 31ms/step\n",
            "1/1 [==============================] - 0s 34ms/step\n",
            "1/1 [==============================] - 0s 32ms/step\n",
            "1/1 [==============================] - 0s 32ms/step\n",
            "1/1 [==============================] - 0s 31ms/step\n",
            "1/1 [==============================] - 0s 31ms/step\n",
            "1/1 [==============================] - 0s 33ms/step\n",
            "1/1 [==============================] - 0s 30ms/step\n",
            "1/1 [==============================] - 0s 28ms/step\n"
          ]
        }
      ],
      "source": [
        "import cv2\n",
        "import numpy as np\n",
        "\n",
        "# Load the pre-trained face detection model\n",
        "face_cascade = cv2.CascadeClassifier(cv2.data.haarcascades + 'haarcascade_frontalface_default.xml')\n",
        "\n",
        "# Initialize the video capture\n",
        "cap = cv2.VideoCapture(0)  # 0 for default camera, you can change it to the appropriate camera index if you have multiple cameras\n",
        "\n",
        "while True:\n",
        "    # Capture frame-by-frame\n",
        "    ret, frame = cap.read()\n",
        "\n",
        "    # Ensure the frame was read properly\n",
        "    if not ret:\n",
        "        print(\"Failed to capture frame\")\n",
        "        break\n",
        "\n",
        "    # Convert the frame to grayscale for face detection\n",
        "    # gray_frame = cv2.cvtColor(frame, cv2.COLOR_BGR2GRAY)\n",
        "\n",
        "    # Detect faces in the frame\n",
        "    faces = face_cascade.detectMultiScale(frame, scaleFactor=1.3, minNeighbors=10, minSize=(30, 30))\n",
        "\n",
        "    for (x, y, w, h) in faces:\n",
        "        # Draw a rectangle around the face\n",
        "        cv2.rectangle(frame, (x, y), (x + w, y + h), (255, 0, 0), 2)\n",
        "\n",
        "        # Extract the face region\n",
        "        face_roi = frame[y:y + h, x:x + w]\n",
        "\n",
        "        # Preprocess the face (resize it to the input shape expected by your model)\n",
        "        resized_face = cv2.resize(face_roi, (100, 100))\n",
        "\n",
        "        # Normalize the face\n",
        "        normalized_face = resized_face / 255.0\n",
        "\n",
        "        # Reshape the face to match the model's input shape\n",
        "        input_face = np.reshape(normalized_face, (1, 100, 100, 3))\n",
        "\n",
        "        # Make predictions using the combined model\n",
        "        predictions = combined_model.predict(input_face)\n",
        "        face_predictions, emotion_predictions = predictions\n",
        "\n",
        "        # Get the predicted classes\n",
        "        predicted_face_class = np.argmax(face_predictions)\n",
        "        predicted_emotion_class = np.argmax(emotion_predictions)\n",
        "\n",
        "        # Display the predicted classes\n",
        "        cv2.putText(frame, f\"Person: {face_arr[predicted_face_class]}\", (x, y - 10), cv2.FONT_HERSHEY_SIMPLEX, 0.5, (0, 255, 0), 2, cv2.LINE_AA)\n",
        "        cv2.putText(frame, f\"Emotion: {emotion_arr[predicted_emotion_class]}\", (x, y + h + 20), cv2.FONT_HERSHEY_SIMPLEX, 0.5, (0, 255, 0), 2, cv2.LINE_AA)\n",
        "\n",
        "    # Display the frame with predictions\n",
        "    cv2.imshow('Video Capture', frame)\n",
        "\n",
        "    # Break the loop if 'q' key is pressed\n",
        "    if cv2.waitKey(1) & 0xFF == ord('q'):\n",
        "        break\n",
        "\n",
        "# Release the video capture object and close all windows\n",
        "cap.release()\n",
        "cv2.destroyAllWindows()"
      ]
    },
    {
      "cell_type": "markdown",
      "metadata": {
        "id": "yI3Vbv2WOzR1"
      },
      "source": [
        "## Model Prediction"
      ]
    },
    {
      "cell_type": "code",
      "execution_count": null,
      "metadata": {
        "id": "kNybE28dOzR1",
        "outputId": "2dff257e-e42d-4203-8210-ad5713884b0c"
      },
      "outputs": [
        {
          "name": "stdout",
          "output_type": "stream",
          "text": [
            "15/15 [==============================] - 1s 40ms/step\n"
          ]
        }
      ],
      "source": [
        "predictions = combined_model.predict(x_face_test)\n",
        "face_predictions, emotion_predictions = predictions\n",
        "\n",
        "\n",
        "predicted_face_class = np.argmax(face_predictions, axis=1)\n",
        "predicted_emotion_class = np.argmax(emotion_predictions, axis=1)"
      ]
    },
    {
      "cell_type": "code",
      "execution_count": null,
      "metadata": {
        "id": "XV8TPr8qOzR2",
        "outputId": "7d42b788-7e45-4122-cb8e-4052c3bb6bb3"
      },
      "outputs": [
        {
          "data": {
            "text/plain": [
              "array([[9.99999583e-01, 3.18943052e-07],\n",
              "       [9.99376118e-01, 6.23864704e-04],\n",
              "       [9.99999940e-01, 8.14837864e-10],\n",
              "       [9.99999821e-01, 1.14501091e-07],\n",
              "       [9.99999702e-01, 2.80175698e-07],\n",
              "       [9.99996245e-01, 3.67064422e-06],\n",
              "       [9.99999344e-01, 5.97833321e-07],\n",
              "       [9.99999940e-01, 3.70471362e-12],\n",
              "       [9.99827862e-01, 1.72251835e-04],\n",
              "       [9.99999940e-01, 8.14898482e-10],\n",
              "       [9.99999940e-01, 6.00586869e-09],\n",
              "       [9.99999940e-01, 5.59024578e-08],\n",
              "       [9.99999940e-01, 1.40847153e-10],\n",
              "       [9.99964297e-01, 3.56333039e-05],\n",
              "       [9.99998748e-01, 1.16777960e-06],\n",
              "       [9.99999940e-01, 3.52705376e-09],\n",
              "       [9.99993980e-01, 5.95772963e-06],\n",
              "       [9.99999344e-01, 5.96132736e-07],\n",
              "       [9.99992311e-01, 7.62817490e-06],\n",
              "       [9.99957621e-01, 4.22637713e-05],\n",
              "       [9.99999940e-01, 2.23534768e-09],\n",
              "       [9.99997556e-01, 2.43824275e-06],\n",
              "       [9.99998987e-01, 9.23759956e-07],\n",
              "       [1.85415065e-05, 9.99981344e-01],\n",
              "       [9.99999821e-01, 1.06666107e-07],\n",
              "       [9.99998510e-01, 1.39236602e-06],\n",
              "       [9.99999702e-01, 2.05118582e-07],\n",
              "       [9.99999940e-01, 1.12721574e-08],\n",
              "       [9.99996006e-01, 3.89605702e-06],\n",
              "       [9.99935210e-01, 6.47116249e-05],\n",
              "       [9.99999940e-01, 3.89900806e-10],\n",
              "       [9.99998271e-01, 1.63608593e-06],\n",
              "       [9.99999940e-01, 7.08521519e-10],\n",
              "       [9.99999821e-01, 7.10187749e-08],\n",
              "       [9.99994695e-01, 5.20660660e-06],\n",
              "       [9.99719024e-01, 2.81042827e-04],\n",
              "       [9.99993622e-01, 6.32154570e-06],\n",
              "       [9.99999940e-01, 1.16275167e-11],\n",
              "       [9.99999940e-01, 1.89883540e-08],\n",
              "       [9.99999940e-01, 1.32319777e-09],\n",
              "       [9.99997199e-01, 2.69240945e-06],\n",
              "       [9.99961317e-01, 3.86750798e-05],\n",
              "       [9.99993026e-01, 6.89065882e-06],\n",
              "       [9.99999940e-01, 9.29989766e-11],\n",
              "       [9.99997914e-01, 2.07506901e-06],\n",
              "       [9.99999940e-01, 2.20739800e-08],\n",
              "       [9.99999344e-01, 5.81309052e-07],\n",
              "       [9.99999940e-01, 1.80098236e-09],\n",
              "       [9.99999821e-01, 1.28953431e-07],\n",
              "       [9.99999940e-01, 2.31100250e-10],\n",
              "       [9.99999940e-01, 1.35233439e-11],\n",
              "       [9.99999821e-01, 1.68244895e-07],\n",
              "       [9.99998748e-01, 1.21120718e-06],\n",
              "       [9.99996483e-01, 3.40008273e-06],\n",
              "       [9.99992430e-01, 7.56966483e-06],\n",
              "       [9.99995649e-01, 4.25361986e-06],\n",
              "       [9.99999464e-01, 4.77305264e-07],\n",
              "       [9.99991715e-01, 8.24831841e-06],\n",
              "       [9.99943316e-01, 5.66805502e-05],\n",
              "       [9.99999225e-01, 7.10572465e-07],\n",
              "       [9.99999940e-01, 6.38711695e-10],\n",
              "       [9.99999821e-01, 1.66154635e-07],\n",
              "       [9.99998033e-01, 1.91549020e-06],\n",
              "       [9.99999940e-01, 5.21747445e-08],\n",
              "       [9.99999702e-01, 2.95039683e-07],\n",
              "       [9.99999940e-01, 1.44005989e-08],\n",
              "       [9.99999583e-01, 3.18943052e-07],\n",
              "       [9.99996603e-01, 3.34348715e-06],\n",
              "       [9.99996960e-01, 2.97886936e-06],\n",
              "       [9.99982297e-01, 1.76443391e-05],\n",
              "       [9.99999940e-01, 3.20247007e-09],\n",
              "       [9.99998868e-01, 1.09613131e-06],\n",
              "       [9.99999940e-01, 3.16866533e-08],\n",
              "       [6.19072216e-06, 9.99993742e-01],\n",
              "       [9.99996722e-01, 3.19542687e-06],\n",
              "       [9.99999940e-01, 1.37218509e-11],\n",
              "       [9.99999344e-01, 6.30820921e-07],\n",
              "       [9.99999464e-01, 4.66455759e-07],\n",
              "       [9.99999940e-01, 4.03049860e-08],\n",
              "       [9.99999940e-01, 2.37552467e-09],\n",
              "       [9.99999225e-01, 6.99921770e-07],\n",
              "       [9.99995887e-01, 4.06049412e-06],\n",
              "       [9.99998510e-01, 1.39236602e-06],\n",
              "       [5.80898927e-07, 9.99999344e-01],\n",
              "       [9.99999940e-01, 2.66867656e-11],\n",
              "       [9.99992311e-01, 7.62306263e-06],\n",
              "       [9.99999821e-01, 1.64247226e-07],\n",
              "       [9.99980271e-01, 1.97149966e-05],\n",
              "       [9.99897540e-01, 1.02365128e-04],\n",
              "       [9.99984682e-01, 1.53127839e-05],\n",
              "       [9.99998152e-01, 1.73618128e-06],\n",
              "       [9.99999344e-01, 6.31833643e-07],\n",
              "       [9.99999940e-01, 7.47377937e-10],\n",
              "       [9.99999821e-01, 1.74095021e-07],\n",
              "       [9.99961317e-01, 3.86751199e-05],\n",
              "       [9.99999940e-01, 5.21747445e-08],\n",
              "       [9.99999821e-01, 9.76563115e-08],\n",
              "       [9.99999940e-01, 4.46301795e-14],\n",
              "       [9.99999821e-01, 9.76563115e-08],\n",
              "       [9.99999940e-01, 5.28808837e-11],\n",
              "       [9.99999940e-01, 1.32366409e-10],\n",
              "       [9.99999940e-01, 6.91855595e-09],\n",
              "       [9.99999344e-01, 5.52000301e-07],\n",
              "       [9.99993742e-01, 6.18541662e-06],\n",
              "       [1.56593203e-04, 9.99843359e-01],\n",
              "       [9.99999940e-01, 6.69362135e-12],\n",
              "       [9.99999702e-01, 2.33236278e-07],\n",
              "       [9.99999940e-01, 1.00953146e-09],\n",
              "       [9.99999702e-01, 2.33236278e-07],\n",
              "       [9.99988258e-01, 1.16452948e-05],\n",
              "       [9.99999821e-01, 1.36609003e-07],\n",
              "       [9.99999940e-01, 3.16812236e-11],\n",
              "       [9.99880850e-01, 1.19094315e-04],\n",
              "       [9.99999344e-01, 5.52687766e-07],\n",
              "       [9.99965847e-01, 3.41197956e-05],\n",
              "       [9.99999583e-01, 3.37801055e-07],\n",
              "       [9.99999940e-01, 7.50032647e-10],\n",
              "       [9.99880850e-01, 1.19094315e-04],\n",
              "       [2.63167067e-07, 9.99999702e-01],\n",
              "       [9.99999940e-01, 4.78255480e-09],\n",
              "       [9.99992311e-01, 7.67151778e-06],\n",
              "       [9.99929607e-01, 7.02745674e-05],\n",
              "       [9.99999940e-01, 5.74692258e-08],\n",
              "       [9.99998033e-01, 1.89832485e-06],\n",
              "       [9.99999940e-01, 7.53219542e-10],\n",
              "       [9.99999940e-01, 4.28569298e-11],\n",
              "       [9.99943197e-01, 5.67864809e-05],\n",
              "       [9.99971926e-01, 2.80424283e-05],\n",
              "       [9.99989331e-01, 1.05603140e-05],\n",
              "       [9.99999940e-01, 9.29989766e-11],\n",
              "       [9.99995291e-01, 4.61767740e-06],\n",
              "       [9.99986470e-01, 1.34213942e-05],\n",
              "       [9.99999940e-01, 4.49257576e-11],\n",
              "       [9.99999940e-01, 1.34447864e-09],\n",
              "       [9.99986708e-01, 1.32878877e-05],\n",
              "       [9.99999940e-01, 1.73574044e-10],\n",
              "       [9.99999940e-01, 7.89447119e-10],\n",
              "       [9.99827862e-01, 1.72251835e-04],\n",
              "       [9.99994695e-01, 5.20660660e-06],\n",
              "       [9.99999940e-01, 5.62145851e-11],\n",
              "       [9.99992311e-01, 7.67151050e-06],\n",
              "       [9.99996364e-01, 3.60016634e-06],\n",
              "       [9.99999821e-01, 1.14501091e-07],\n",
              "       [9.99999940e-01, 1.36557370e-08],\n",
              "       [9.99999940e-01, 9.14608883e-13],\n",
              "       [9.99993384e-01, 6.53225243e-06],\n",
              "       [9.99999702e-01, 2.27358441e-07],\n",
              "       [1.97881448e-07, 9.99999702e-01],\n",
              "       [9.99997795e-01, 2.15648561e-06],\n",
              "       [9.99997556e-01, 2.43824275e-06],\n",
              "       [9.99999344e-01, 5.39603718e-07],\n",
              "       [9.99999940e-01, 2.25616695e-11],\n",
              "       [9.99999940e-01, 7.47377937e-10],\n",
              "       [9.99999940e-01, 6.59186039e-11],\n",
              "       [9.99997795e-01, 2.13970975e-06],\n",
              "       [9.99961913e-01, 3.80194797e-05],\n",
              "       [9.99998868e-01, 1.09746804e-06],\n",
              "       [9.99999940e-01, 3.41070261e-09],\n",
              "       [9.99985158e-01, 1.47710780e-05],\n",
              "       [9.99999821e-01, 1.14501091e-07],\n",
              "       [9.99999821e-01, 1.41291849e-07],\n",
              "       [9.99982297e-01, 1.76443391e-05],\n",
              "       [9.99953210e-01, 4.67114878e-05],\n",
              "       [9.99954760e-01, 4.51664091e-05],\n",
              "       [9.99999344e-01, 5.96132736e-07],\n",
              "       [9.99999940e-01, 3.08818482e-13],\n",
              "       [9.99998868e-01, 1.09977304e-06],\n",
              "       [9.99998033e-01, 1.91549020e-06],\n",
              "       [9.99999940e-01, 7.59610874e-10],\n",
              "       [9.99999821e-01, 8.27488904e-08],\n",
              "       [9.99998868e-01, 1.03018181e-06],\n",
              "       [9.99999940e-01, 1.64438199e-10],\n",
              "       [9.99947965e-01, 5.19885398e-05],\n",
              "       [9.99999583e-01, 4.14917508e-07],\n",
              "       [9.99997795e-01, 2.15648356e-06],\n",
              "       [9.99992311e-01, 7.58912984e-06],\n",
              "       [9.99999821e-01, 1.62300864e-07],\n",
              "       [9.99999702e-01, 1.96675288e-07],\n",
              "       [9.99999821e-01, 1.64247226e-07],\n",
              "       [9.99996841e-01, 3.13160535e-06],\n",
              "       [9.99999940e-01, 1.44953685e-08],\n",
              "       [9.99987185e-01, 1.27774538e-05],\n",
              "       [9.99999583e-01, 4.14917906e-07],\n",
              "       [9.99999940e-01, 1.55339663e-13],\n",
              "       [9.99999583e-01, 3.82054424e-07],\n",
              "       [9.99999940e-01, 1.35415350e-08],\n",
              "       [9.99980271e-01, 1.97149966e-05],\n",
              "       [9.99968469e-01, 3.14577192e-05],\n",
              "       [9.99998748e-01, 1.21120718e-06],\n",
              "       [9.99998152e-01, 1.73618128e-06],\n",
              "       [9.99999821e-01, 1.39436025e-07],\n",
              "       [9.99965847e-01, 3.41197956e-05],\n",
              "       [9.99999940e-01, 9.14607149e-13],\n",
              "       [9.99999940e-01, 7.47377937e-10],\n",
              "       [9.99999940e-01, 1.53995202e-11],\n",
              "       [1.25127755e-07, 9.99999821e-01],\n",
              "       [9.99999940e-01, 6.91855595e-09],\n",
              "       [9.99996841e-01, 3.13160535e-06],\n",
              "       [9.99998033e-01, 1.91549020e-06],\n",
              "       [9.99999106e-01, 8.33309400e-07],\n",
              "       [9.99999940e-01, 3.35839019e-08],\n",
              "       [9.99999821e-01, 1.28953545e-07],\n",
              "       [9.99999940e-01, 2.42755205e-10],\n",
              "       [9.99999940e-01, 8.32241387e-10],\n",
              "       [9.99999940e-01, 1.21012061e-10],\n",
              "       [9.99991715e-01, 8.18739227e-06],\n",
              "       [9.99999940e-01, 9.40185690e-12],\n",
              "       [9.99999821e-01, 1.36531384e-07],\n",
              "       [9.99988854e-01, 1.10464625e-05],\n",
              "       [9.99999940e-01, 2.71993240e-14],\n",
              "       [9.99999940e-01, 2.60928328e-08],\n",
              "       [9.99999702e-01, 2.94203517e-07],\n",
              "       [9.99999940e-01, 3.34927086e-10],\n",
              "       [9.99999940e-01, 7.08521519e-10],\n",
              "       [9.99954760e-01, 4.51664091e-05],\n",
              "       [9.99999583e-01, 4.14917906e-07],\n",
              "       [9.99999940e-01, 6.00586869e-09],\n",
              "       [9.99998152e-01, 1.73208980e-06],\n",
              "       [9.99999821e-01, 1.11802180e-07],\n",
              "       [9.99999940e-01, 8.92019930e-11],\n",
              "       [9.99942720e-01, 5.72093522e-05],\n",
              "       [9.99863863e-01, 1.36187940e-04],\n",
              "       [9.99999940e-01, 6.18181817e-09],\n",
              "       [2.63167067e-07, 9.99999702e-01],\n",
              "       [9.99975860e-01, 2.41274029e-05],\n",
              "       [9.99999821e-01, 7.45695559e-08],\n",
              "       [9.99999940e-01, 2.55361177e-09],\n",
              "       [9.99999940e-01, 1.64475530e-10],\n",
              "       [9.99999344e-01, 6.05297032e-07],\n",
              "       [9.99998033e-01, 1.94247332e-06],\n",
              "       [9.99958217e-01, 4.16908151e-05],\n",
              "       [9.99999940e-01, 2.37465325e-10],\n",
              "       [9.99997199e-01, 2.69240945e-06],\n",
              "       [9.99999940e-01, 2.16518166e-12],\n",
              "       [9.99984086e-01, 1.58540188e-05],\n",
              "       [9.99999940e-01, 9.79625980e-09],\n",
              "       [9.99982774e-01, 1.72188920e-05],\n",
              "       [9.99992311e-01, 7.58652459e-06],\n",
              "       [9.99998033e-01, 1.89832667e-06],\n",
              "       [9.99999940e-01, 1.50118154e-10],\n",
              "       [9.99999940e-01, 1.73876002e-09],\n",
              "       [9.99999940e-01, 1.12721574e-08],\n",
              "       [9.99999464e-01, 5.34286471e-07],\n",
              "       [9.99999940e-01, 5.57495525e-08],\n",
              "       [9.99998152e-01, 1.77151708e-06],\n",
              "       [9.99999225e-01, 7.57818498e-07],\n",
              "       [9.99999344e-01, 6.24093900e-07],\n",
              "       [9.99999940e-01, 3.56781771e-10],\n",
              "       [9.99999940e-01, 4.15520118e-10],\n",
              "       [9.99996960e-01, 2.97886936e-06],\n",
              "       [9.99376118e-01, 6.23864704e-04],\n",
              "       [1.17963214e-06, 9.99998748e-01],\n",
              "       [9.99999821e-01, 1.09300849e-07],\n",
              "       [9.68665631e-07, 9.99998987e-01],\n",
              "       [9.99998033e-01, 1.85692511e-06],\n",
              "       [9.99999940e-01, 2.66905733e-08],\n",
              "       [9.99982297e-01, 1.76496742e-05],\n",
              "       [9.99880850e-01, 1.19094315e-04],\n",
              "       [9.99999940e-01, 2.11559463e-08],\n",
              "       [9.99999940e-01, 8.05614169e-12],\n",
              "       [9.99998868e-01, 1.03018181e-06],\n",
              "       [9.99998748e-01, 1.16777960e-06],\n",
              "       [9.99990404e-01, 9.51104357e-06],\n",
              "       [9.99999106e-01, 7.80220546e-07],\n",
              "       [9.99999940e-01, 6.22046208e-12],\n",
              "       [9.99999940e-01, 1.82221278e-08],\n",
              "       [9.99988258e-01, 1.16452948e-05],\n",
              "       [9.99999940e-01, 3.05034611e-08],\n",
              "       [9.99999821e-01, 9.70987415e-08],\n",
              "       [5.80898416e-07, 9.99999344e-01],\n",
              "       [5.79105144e-05, 9.99942005e-01],\n",
              "       [9.99995530e-01, 4.44554917e-06],\n",
              "       [9.99999344e-01, 6.31833643e-07],\n",
              "       [9.99999344e-01, 6.12564691e-07],\n",
              "       [9.99999821e-01, 1.06666107e-07],\n",
              "       [9.99999821e-01, 1.70588081e-07],\n",
              "       [9.99999940e-01, 1.45981938e-08],\n",
              "       [9.99999702e-01, 2.69704572e-07],\n",
              "       [9.99999940e-01, 2.07528874e-08],\n",
              "       [9.99999583e-01, 3.18942739e-07],\n",
              "       [9.99993980e-01, 6.01012789e-06],\n",
              "       [9.99999344e-01, 5.52688277e-07],\n",
              "       [9.99997199e-01, 2.69240672e-06],\n",
              "       [9.99999940e-01, 1.80093676e-10],\n",
              "       [9.99999940e-01, 1.10419581e-11],\n",
              "       [9.99999940e-01, 8.68210126e-09],\n",
              "       [3.51761442e-09, 9.99999940e-01],\n",
              "       [9.99999940e-01, 2.26967467e-09],\n",
              "       [9.99999702e-01, 2.70064390e-07],\n",
              "       [9.99943316e-01, 5.66805502e-05],\n",
              "       [9.99999940e-01, 9.80527037e-09],\n",
              "       [9.99997318e-01, 2.64309756e-06],\n",
              "       [9.99999940e-01, 2.60928328e-08],\n",
              "       [9.99999940e-01, 7.46035234e-09],\n",
              "       [9.99999940e-01, 3.34927086e-10],\n",
              "       [9.99999940e-01, 2.08815520e-10],\n",
              "       [9.99999702e-01, 2.69704572e-07],\n",
              "       [9.99986708e-01, 1.32223695e-05],\n",
              "       [9.99897540e-01, 1.02365128e-04],\n",
              "       [9.99986470e-01, 1.34649845e-05],\n",
              "       [9.99999821e-01, 1.23307714e-07],\n",
              "       [9.99999821e-01, 9.76563115e-08],\n",
              "       [2.44566554e-08, 9.99999940e-01],\n",
              "       [9.99983728e-01, 1.62189644e-05],\n",
              "       [9.99999821e-01, 1.11592968e-07],\n",
              "       [9.99999940e-01, 6.13724783e-12],\n",
              "       [9.99999940e-01, 8.68210126e-09],\n",
              "       [9.99999940e-01, 4.50786963e-08],\n",
              "       [9.99999940e-01, 2.99125546e-12],\n",
              "       [9.99999940e-01, 8.14964415e-12],\n",
              "       [9.99974072e-01, 2.58750788e-05],\n",
              "       [9.99993980e-01, 6.01012789e-06],\n",
              "       [1.17963214e-06, 9.99998748e-01],\n",
              "       [9.99999940e-01, 3.50662988e-12],\n",
              "       [2.22371341e-06, 9.99997675e-01],\n",
              "       [9.99999821e-01, 1.41291849e-07],\n",
              "       [9.99953210e-01, 4.67115315e-05],\n",
              "       [9.99974072e-01, 2.58751043e-05],\n",
              "       [9.99999583e-01, 3.91146642e-07],\n",
              "       [9.99999940e-01, 1.27400748e-13],\n",
              "       [9.99999940e-01, 1.12464671e-09],\n",
              "       [9.99999821e-01, 8.00145799e-08],\n",
              "       [9.99998868e-01, 1.03229627e-06],\n",
              "       [9.99999940e-01, 1.31156408e-09],\n",
              "       [9.99999940e-01, 7.39206651e-09],\n",
              "       [9.99999940e-01, 3.37812587e-08],\n",
              "       [9.99998033e-01, 1.89832667e-06],\n",
              "       [1.06103789e-06, 9.99998868e-01],\n",
              "       [9.99993742e-01, 6.18541662e-06],\n",
              "       [9.99999821e-01, 1.26926466e-07],\n",
              "       [9.99965847e-01, 3.41197956e-05],\n",
              "       [9.99975145e-01, 2.48036704e-05],\n",
              "       [9.99999940e-01, 7.62315278e-09],\n",
              "       [9.99999940e-01, 1.32319777e-09],\n",
              "       [9.99997199e-01, 2.78978268e-06],\n",
              "       [9.99997795e-01, 2.12120858e-06],\n",
              "       [9.99999464e-01, 4.34178787e-07],\n",
              "       [9.99998391e-01, 1.49331322e-06],\n",
              "       [9.99999821e-01, 6.17670608e-08],\n",
              "       [9.99999940e-01, 9.79625980e-09],\n",
              "       [9.99988496e-01, 1.14065606e-05],\n",
              "       [9.99998391e-01, 1.57486033e-06],\n",
              "       [9.99999940e-01, 3.40794198e-11],\n",
              "       [9.99986827e-01, 1.31247543e-05],\n",
              "       [9.99999940e-01, 4.78668234e-08],\n",
              "       [9.99998510e-01, 1.43520049e-06],\n",
              "       [9.99999821e-01, 6.40345590e-08],\n",
              "       [9.99999940e-01, 9.78706671e-10],\n",
              "       [9.99999940e-01, 7.18889259e-09],\n",
              "       [9.99833107e-01, 1.67021077e-04],\n",
              "       [2.02242823e-04, 9.99797821e-01],\n",
              "       [9.99982297e-01, 1.76496742e-05],\n",
              "       [9.99999940e-01, 2.17030909e-08],\n",
              "       [9.99999225e-01, 6.63064554e-07],\n",
              "       [9.99999344e-01, 5.97833321e-07],\n",
              "       [9.99913990e-01, 8.59749052e-05],\n",
              "       [9.99999821e-01, 9.76563115e-08],\n",
              "       [9.99999940e-01, 2.15168701e-08],\n",
              "       [9.99999940e-01, 1.35415350e-08],\n",
              "       [9.99999821e-01, 7.65398482e-08],\n",
              "       [9.99999940e-01, 1.48259609e-08],\n",
              "       [9.99996364e-01, 3.60016634e-06],\n",
              "       [9.99995053e-01, 4.90191542e-06],\n",
              "       [9.99994218e-01, 5.71341889e-06],\n",
              "       [9.99998748e-01, 1.21830408e-06],\n",
              "       [9.99980986e-01, 1.89240454e-05],\n",
              "       [9.99999344e-01, 5.97833321e-07],\n",
              "       [9.99999106e-01, 8.30008389e-07],\n",
              "       [9.99999940e-01, 1.73290648e-09],\n",
              "       [9.99998391e-01, 1.57486033e-06],\n",
              "       [9.99376118e-01, 6.23864704e-04],\n",
              "       [9.99999821e-01, 8.83849722e-08],\n",
              "       [9.99999940e-01, 2.67985136e-08],\n",
              "       [9.99999583e-01, 3.65152516e-07],\n",
              "       [9.99999940e-01, 4.60787936e-10],\n",
              "       [9.99999464e-01, 5.04996194e-07],\n",
              "       [9.99999940e-01, 7.50034090e-10],\n",
              "       [9.99999940e-01, 3.26288579e-10],\n",
              "       [9.99999940e-01, 3.20247628e-09],\n",
              "       [9.99997199e-01, 2.78978268e-06],\n",
              "       [9.99999821e-01, 1.64246913e-07],\n",
              "       [9.99999940e-01, 2.11754747e-09],\n",
              "       [9.99993980e-01, 5.99718896e-06],\n",
              "       [9.99999821e-01, 1.68244895e-07],\n",
              "       [9.99999940e-01, 8.52835857e-10],\n",
              "       [9.99990523e-01, 9.43507621e-06],\n",
              "       [9.99999940e-01, 5.85977322e-10],\n",
              "       [1.95803871e-08, 9.99999940e-01],\n",
              "       [9.99999940e-01, 2.94628592e-11],\n",
              "       [9.99999940e-01, 3.26446703e-10],\n",
              "       [9.99999225e-01, 7.52348626e-07],\n",
              "       [9.99998868e-01, 1.09613131e-06],\n",
              "       [9.99977767e-01, 2.21466926e-05],\n",
              "       [9.99999940e-01, 1.35415350e-08],\n",
              "       [9.99999821e-01, 1.04085544e-07],\n",
              "       [9.99999225e-01, 6.99921770e-07],\n",
              "       [9.99999464e-01, 4.92353252e-07],\n",
              "       [9.99993742e-01, 6.23441701e-06],\n",
              "       [9.99999940e-01, 3.20247007e-09],\n",
              "       [9.99999940e-01, 5.32423217e-10],\n",
              "       [9.99958217e-01, 4.16908151e-05],\n",
              "       [9.99999940e-01, 2.20739800e-08],\n",
              "       [9.99999940e-01, 2.00335903e-09],\n",
              "       [9.99999940e-01, 3.21194733e-08],\n",
              "       [9.99999940e-01, 4.73487649e-09],\n",
              "       [9.99999940e-01, 1.65963643e-09],\n",
              "       [9.99999702e-01, 2.01838773e-07],\n",
              "       [9.99999344e-01, 5.97833321e-07],\n",
              "       [9.99999583e-01, 3.01031577e-07],\n",
              "       [1.06103789e-06, 9.99998868e-01],\n",
              "       [9.99999940e-01, 9.03572595e-09],\n",
              "       [9.99999464e-01, 4.34179213e-07],\n",
              "       [9.99999702e-01, 2.42061503e-07],\n",
              "       [9.99999940e-01, 1.29248405e-13],\n",
              "       [9.99999940e-01, 2.03338929e-10],\n",
              "       [9.99999940e-01, 1.46388190e-08],\n",
              "       [9.99999940e-01, 6.91855595e-09],\n",
              "       [9.99999940e-01, 9.26495141e-14],\n",
              "       [9.99961913e-01, 3.80194797e-05],\n",
              "       [9.99935210e-01, 6.47116904e-05],\n",
              "       [9.99999702e-01, 2.05118383e-07],\n",
              "       [9.99999583e-01, 3.11672409e-07],\n",
              "       [9.99999940e-01, 3.56321027e-12],\n",
              "       [9.99999344e-01, 5.52687766e-07],\n",
              "       [9.99998987e-01, 9.80940513e-07],\n",
              "       [9.99999940e-01, 2.23182557e-08],\n",
              "       [9.99999940e-01, 7.10646056e-11],\n",
              "       [9.99833107e-01, 1.67020917e-04],\n",
              "       [9.99999940e-01, 1.87474103e-09],\n",
              "       [9.99999940e-01, 4.08169747e-08],\n",
              "       [9.99999344e-01, 6.45952866e-07],\n",
              "       [9.99997795e-01, 2.15648356e-06],\n",
              "       [9.99999702e-01, 2.33236278e-07],\n",
              "       [9.99997675e-01, 2.30226874e-06],\n",
              "       [9.99999821e-01, 1.28953431e-07],\n",
              "       [9.99998629e-01, 1.36516974e-06],\n",
              "       [9.99999702e-01, 1.79284740e-07],\n",
              "       [9.99999940e-01, 3.21366778e-09],\n",
              "       [9.99994218e-01, 5.71341889e-06],\n",
              "       [9.99999344e-01, 5.89326930e-07],\n",
              "       [9.99999940e-01, 2.92382257e-10],\n",
              "       [9.99992549e-01, 7.33343495e-06],\n",
              "       [9.99747276e-01, 2.52783997e-04],\n",
              "       [9.99998510e-01, 1.41436794e-06],\n",
              "       [9.99997318e-01, 2.66619372e-06],\n",
              "       [9.99999106e-01, 8.09660833e-07],\n",
              "       [9.99997556e-01, 2.43824275e-06],\n",
              "       [9.99999225e-01, 7.52348626e-07],\n",
              "       [1.06103789e-06, 9.99998868e-01],\n",
              "       [9.99996603e-01, 3.39319649e-06],\n",
              "       [9.99856472e-01, 1.43493919e-04],\n",
              "       [9.99999940e-01, 1.07007798e-08],\n",
              "       [9.99993980e-01, 5.99719442e-06],\n",
              "       [1.68819861e-05, 9.99983013e-01],\n",
              "       [9.99999940e-01, 2.50656497e-14],\n",
              "       [9.99999583e-01, 3.32559495e-07],\n",
              "       [9.99986708e-01, 1.32878877e-05],\n",
              "       [9.99999940e-01, 2.65087887e-12],\n",
              "       [9.99998868e-01, 1.09977304e-06],\n",
              "       [9.99999702e-01, 2.26420227e-07],\n",
              "       [1.85415229e-05, 9.99981344e-01],\n",
              "       [9.99998510e-01, 1.39236602e-06],\n",
              "       [9.99996603e-01, 3.39319649e-06],\n",
              "       [9.99943316e-01, 5.66805502e-05],\n",
              "       [9.99996960e-01, 2.98271561e-06],\n",
              "       [9.99999940e-01, 8.08993850e-09],\n",
              "       [9.99999940e-01, 1.56248392e-09],\n",
              "       [9.99999940e-01, 1.76087067e-09],\n",
              "       [9.99913990e-01, 8.59749052e-05],\n",
              "       [9.99999583e-01, 3.32559495e-07],\n",
              "       [9.99994218e-01, 5.71341889e-06],\n",
              "       [9.99986708e-01, 1.32878877e-05],\n",
              "       [9.99997437e-01, 2.46713898e-06],\n",
              "       [9.99999940e-01, 4.53436388e-14],\n",
              "       [9.99999821e-01, 1.76130072e-07],\n",
              "       [9.99999940e-01, 7.78517972e-10],\n",
              "       [9.99999940e-01, 1.54833868e-09],\n",
              "       [9.99988258e-01, 1.16452838e-05],\n",
              "       [9.99999702e-01, 1.96675288e-07],\n",
              "       [9.99999940e-01, 1.55964610e-13]], dtype=float32)"
            ]
          },
          "execution_count": 137,
          "metadata": {},
          "output_type": "execute_result"
        }
      ],
      "source": [
        "face_predictions"
      ]
    },
    {
      "cell_type": "markdown",
      "metadata": {
        "id": "5tXsl1CCOzR2"
      },
      "source": [
        "## Handle Model Prediction"
      ]
    },
    {
      "cell_type": "code",
      "execution_count": null,
      "metadata": {
        "id": "Y4R2bpWMOzR2"
      },
      "outputs": [],
      "source": [
        "zeros = np.zeros_like(face_predictions)\n",
        "zeros[ np.arange(len(face_predictions)), predicted_face_class] = 1\n",
        "predicted_faces = zeros"
      ]
    },
    {
      "cell_type": "code",
      "execution_count": null,
      "metadata": {
        "id": "FSprmjSLOzR2",
        "outputId": "79daf30f-78ef-4c60-af2a-395c29398d71"
      },
      "outputs": [
        {
          "data": {
            "text/plain": [
              "array([[1., 0., 0.],\n",
              "       [1., 0., 0.],\n",
              "       [0., 1., 0.],\n",
              "       ...,\n",
              "       [0., 0., 1.],\n",
              "       [0., 0., 1.],\n",
              "       [0., 1., 0.]], dtype=float32)"
            ]
          },
          "execution_count": 139,
          "metadata": {},
          "output_type": "execute_result"
        }
      ],
      "source": [
        "zeros = np.zeros_like(emotion_predictions)\n",
        "zeros[ np.arange(len(emotion_predictions)), predicted_emotion_class] = 1\n",
        "predicted_emotions = zeros\n",
        "predicted_emotions"
      ]
    },
    {
      "cell_type": "markdown",
      "metadata": {
        "id": "04ORjQWWOzR2"
      },
      "source": [
        "## Precision, recall and F1-score"
      ]
    },
    {
      "cell_type": "code",
      "execution_count": null,
      "metadata": {
        "id": "jdx5OxeYOzR3",
        "outputId": "1f8d4aa3-c9d5-4e5f-e9ab-fad043fad534"
      },
      "outputs": [
        {
          "name": "stdout",
          "output_type": "stream",
          "text": [
            "Face Recognition Metrics:\n",
            "Precision: 1.0000, Recall: 1.0000, F1-score: 1.0000\n"
          ]
        }
      ],
      "source": [
        "from sklearn.metrics import precision_score, recall_score, f1_score\n",
        "\n",
        "\n",
        "# Calculate precision, recall, and F1-score for face recognition\n",
        "face_precision = precision_score(y_face_test, predicted_faces, average='micro')\n",
        "face_recall = recall_score(y_face_test, predicted_faces, average='macro')\n",
        "face_f1 = f1_score(y_face_test, predicted_faces, average='weighted')\n",
        "\n",
        "print(\"Face Recognition Metrics:\")\n",
        "print(f\"Precision: {face_precision:.4f}, Recall: {face_recall:.4f}, F1-score: {face_f1:.4f}\")\n"
      ]
    },
    {
      "cell_type": "code",
      "execution_count": null,
      "metadata": {
        "id": "u3IdOjItOzR3",
        "outputId": "d0d87a05-f525-436f-c22e-6a1f3ec2e2a6"
      },
      "outputs": [
        {
          "name": "stdout",
          "output_type": "stream",
          "text": [
            "emotion Recognition Metrics:\n",
            "Precision: 0.9354, Recall: 0.9193, F1-score: 0.9329\n"
          ]
        }
      ],
      "source": [
        "# Calculate precision, recall, and F1-score for face recognition\n",
        "emotion_precision = precision_score(y_emotion_test, predicted_emotions, average='micro')\n",
        "emotion_recall = recall_score(y_emotion_test, predicted_emotions, average='macro')\n",
        "emotion_f1 = f1_score(y_emotion_test, predicted_emotions, average='weighted')\n",
        "\n",
        "print(\"emotion Recognition Metrics:\")\n",
        "print(f\"Precision: {emotion_precision:.4f}, Recall: {emotion_recall:.4f}, F1-score: {emotion_f1:.4f}\")"
      ]
    },
    {
      "cell_type": "code",
      "execution_count": null,
      "metadata": {
        "id": "SXQfLrfHOzR3",
        "outputId": "40cba38b-319f-43f1-943c-17756804f9c6"
      },
      "outputs": [
        {
          "name": "stdout",
          "output_type": "stream",
          "text": [
            "15/15 [==============================] - 1s 41ms/step\n",
            "15/15 [==============================] - 1s 34ms/step\n"
          ]
        }
      ],
      "source": [
        "from tensorflow.keras.models import load_model\n",
        "model = load_model('Perfect_one.h5')"
      ]
    },
    {
      "cell_type": "code",
      "execution_count": null,
      "metadata": {
        "id": "KA94JJfxOzR3"
      },
      "outputs": [],
      "source": [
        "# import numpy as np\n",
        "\n",
        "# # Sample prediction probabilities (replace this with your actual predicted probabilities)\n",
        "# predicted_probabilities = np.array([[0.3, 0.7], [0.6, 0.4], [0.2, 0.8]])\n",
        "\n",
        "# # Get the index of the maximum probability along axis 1 (assuming binary classification)\n",
        "# max_prob_indices = np.argmax(predicted_probabilities, axis=1)\n",
        "\n",
        "# # Create a one-zero array where the position of the largest probability is marked as one\n",
        "# one_zero_array = np.zeros_like(predicted_probabilities)\n",
        "# one_zero_array[np.arange(len(predicted_probabilities)), max_prob_indices] = 1\n",
        "\n",
        "# print(\"Original Probabilities:\")\n",
        "# print(predicted_probabilities)\n",
        "# print(\"\\nOne-Zero Array:\")\n",
        "# print(one_zero_array)\n"
      ]
    },
    {
      "cell_type": "code",
      "execution_count": null,
      "metadata": {
        "id": "6BMzPajHOzR3"
      },
      "outputs": [],
      "source": []
    }
  ],
  "metadata": {
    "kernelspec": {
      "display_name": "base",
      "language": "python",
      "name": "python3"
    },
    "language_info": {
      "codemirror_mode": {
        "name": "ipython",
        "version": 3
      },
      "file_extension": ".py",
      "mimetype": "text/x-python",
      "name": "python",
      "nbconvert_exporter": "python",
      "pygments_lexer": "ipython3",
      "version": "3.9.16"
    },
    "colab": {
      "provenance": []
    }
  },
  "nbformat": 4,
  "nbformat_minor": 0
}